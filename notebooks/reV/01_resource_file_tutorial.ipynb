{
 "cells": [
  {
   "cell_type": "markdown",
   "metadata": {},
   "source": [
    "# reV Resource File Format\n",
    "\n",
    "**Prerequisites:**\n",
    "\n",
    "- Required: None\n",
    "- Recommended: None\n",
    "\n",
    "----"
   ]
  },
  {
   "cell_type": "markdown",
   "metadata": {},
   "source": [
    "## Introduction\n",
    "\n",
    "In this tutorial, we will explore the `reV` resource HDF5 file format. The goal is to familiarize ourselves with the file structure and be able to create new resource files using custom weather or resource data. \n",
    "\n",
    "Let's get started!"
   ]
  },
  {
   "cell_type": "markdown",
   "metadata": {
    "tags": [
     "remove-cell"
    ]
   },
   "source": [
    "Let's start with a few common imports:"
   ]
  },
  {
   "cell_type": "code",
   "execution_count": 1,
   "metadata": {
    "tags": [
     "remove-cell"
    ]
   },
   "outputs": [],
   "source": [
    "import datetime\n",
    "\n",
    "import numpy as np\n",
    "import pandas as pd\n",
    "\n",
    "from rex import Resource, Outputs\n",
    "from reV.generation.generation import Gen\n"
   ]
  },
  {
   "cell_type": "markdown",
   "metadata": {},
   "source": [
    "## File structure\n",
    "\n",
    "`reV`-compliant resource files like the WIND Toolkit (WTK) or the National Solar Radiation Database (NSRDB) are HDF5 files that contain spatiotemporal data. All core datasets in the HDF5 file are composed of two dimensions: time along the first axis and space along the second axis. \n",
    "\n",
    "In order to define these dimensions, each HDF5 file comes equipped with a `time_index` dataset and a `meta` dataset. Both of these are 1D datasets, and both encode information about the dimension they represent. The `time_index` dataset is a [pandas `DatetimeIndex`](https://pandas.pydata.org/pandas-docs/stable/reference/api/pandas.DatetimeIndex.html), while `meta` is a [pandas `DataFrame`](https://pandas.pydata.org/pandas-docs/stable/reference/api/pandas.DataFrame.html) where each row represents one location.\n",
    "\n",
    "Every subsequent dataset contained within `reV`-compliant resource files is of the shape `(len(time_index), len(meta))` and typically contains some information about the renewable resource. If you were to look inside a WTK file, for example, it would look something like this:\n",
    "\n",
    "\n",
    "```bash\n",
    "$ h5ls wtk_conus_2007.h5\n",
    "meta                     Dataset {2488136}\n",
    "pressure_0m              Dataset {8760, 2488136}\n",
    "pressure_100m            Dataset {8760, 2488136}\n",
    "pressure_200m            Dataset {8760, 2488136}\n",
    "relativehumidity_2m      Dataset {8760, 2488136}\n",
    "temperature_100m         Dataset {8760, 2488136}\n",
    "temperature_10m          Dataset {8760, 2488136}\n",
    "temperature_120m         Dataset {8760, 2488136}\n",
    "temperature_140m         Dataset {8760, 2488136}\n",
    "temperature_160m         Dataset {8760, 2488136}\n",
    "temperature_200m         Dataset {8760, 2488136}\n",
    "temperature_2m           Dataset {8760, 2488136}\n",
    "temperature_40m          Dataset {8760, 2488136}\n",
    "temperature_60m          Dataset {8760, 2488136}\n",
    "temperature_80m          Dataset {8760, 2488136}\n",
    "time_index               Dataset {8760}\n",
    "winddirection_100m       Dataset {8760, 2488136}\n",
    "winddirection_10m        Dataset {8760, 2488136}\n",
    "winddirection_120m       Dataset {8760, 2488136}\n",
    "winddirection_140m       Dataset {8760, 2488136}\n",
    "winddirection_160m       Dataset {8760, 2488136}\n",
    "winddirection_200m       Dataset {8760, 2488136}\n",
    "winddirection_40m        Dataset {8760, 2488136}\n",
    "winddirection_60m        Dataset {8760, 2488136}\n",
    "winddirection_80m        Dataset {8760, 2488136}\n",
    "windspeed_100m           Dataset {8760, 2488136}\n",
    "windspeed_10m            Dataset {8760, 2488136}\n",
    "windspeed_120m           Dataset {8760, 2488136}\n",
    "windspeed_140m           Dataset {8760, 2488136}\n",
    "windspeed_160m           Dataset {8760, 2488136}\n",
    "windspeed_200m           Dataset {8760, 2488136}\n",
    "windspeed_40m            Dataset {8760, 2488136}\n",
    "windspeed_60m            Dataset {8760, 2488136}\n",
    "windspeed_80m            Dataset {8760, 2488136}\n",
    "```\n",
    "\n",
    "We can make several important observations right away:\n",
    "1) The data contains 2,488,136 unique locations (the is the shape of the meta and the size of the second dimension for every variable)\n",
    "2) The data contains 8760 time steps (i.e. hourly data for a full year ) for each location (the is the size of the first dimension for every variable)\n",
    "3) The data contains 5 main variables: pressure, relative humidity, temperature, wind speed, and wind direction\n",
    "4) The naming convention is {variable}_{height}m\n",
    "5) The variables do not need to be given at the same heights\n",
    "\n",
    "Based on these observations, we can being putting together custom data.\n",
    "\n",
    "## Custom `reV`-compliant resource file\n",
    "\n",
    "To create our own `reV`-compliant resource file, we need three main things:\n",
    "1) A meta `DataFrame` detailing our locations\n",
    "2) A `DatetimeIndex` representing our time steps\n",
    "3) Resource variables for each location and time\n",
    "\n",
    "\n",
    "Let's create a minimal resource file (with dummy data) and run it through `reV`. \n",
    "\n",
    "### Meta\n",
    "\n",
    "We'll start by creating the meta `DataFrame`. At a minimum, this `DataFrame` must contain the following columns:\n",
    "- \"latitude\": Latitude of the location (degrees)\n",
    "- \"longitude\": Longitude of the location (degrees; west is denoted with a negative sign)\n",
    "- \"elevation\": Elevation of the location (meters)\n",
    "- \"timezone\": Integer representing the UTC offset of the location\n",
    "\n",
    "The meta can contain any other columns you would want to include to document the location. Typically, information like the county, state, and country are also added as individual columns.\n",
    "Finally, the name of the index of the `DataFrame` must be set to `\"gid\"`. Let's put together a minimal meta for two locations:\n"
   ]
  },
  {
   "cell_type": "code",
   "execution_count": 2,
   "metadata": {},
   "outputs": [
    {
     "data": {
      "text/html": [
       "<div>\n",
       "<style scoped>\n",
       "    .dataframe tbody tr th:only-of-type {\n",
       "        vertical-align: middle;\n",
       "    }\n",
       "\n",
       "    .dataframe tbody tr th {\n",
       "        vertical-align: top;\n",
       "    }\n",
       "\n",
       "    .dataframe thead th {\n",
       "        text-align: right;\n",
       "    }\n",
       "</style>\n",
       "<table border=\"1\" class=\"dataframe\">\n",
       "  <thead>\n",
       "    <tr style=\"text-align: right;\">\n",
       "      <th></th>\n",
       "      <th>latitude</th>\n",
       "      <th>longitude</th>\n",
       "      <th>elevation</th>\n",
       "      <th>timezone</th>\n",
       "    </tr>\n",
       "    <tr>\n",
       "      <th>gid</th>\n",
       "      <th></th>\n",
       "      <th></th>\n",
       "      <th></th>\n",
       "      <th></th>\n",
       "    </tr>\n",
       "  </thead>\n",
       "  <tbody>\n",
       "    <tr>\n",
       "      <th>0</th>\n",
       "      <td>39.7407</td>\n",
       "      <td>-105.1686</td>\n",
       "      <td>2900</td>\n",
       "      <td>-6</td>\n",
       "    </tr>\n",
       "    <tr>\n",
       "      <th>1</th>\n",
       "      <td>39.7407</td>\n",
       "      <td>-105.1000</td>\n",
       "      <td>2900</td>\n",
       "      <td>-6</td>\n",
       "    </tr>\n",
       "    <tr>\n",
       "      <th>2</th>\n",
       "      <td>39.7500</td>\n",
       "      <td>-105.1000</td>\n",
       "      <td>2900</td>\n",
       "      <td>-6</td>\n",
       "    </tr>\n",
       "  </tbody>\n",
       "</table>\n",
       "</div>"
      ],
      "text/plain": [
       "     latitude  longitude  elevation  timezone\n",
       "gid                                          \n",
       "0     39.7407  -105.1686       2900        -6\n",
       "1     39.7407  -105.1000       2900        -6\n",
       "2     39.7500  -105.1000       2900        -6"
      ]
     },
     "execution_count": 2,
     "metadata": {},
     "output_type": "execute_result"
    }
   ],
   "source": [
    "meta = pd.DataFrame(\n",
    "    {\n",
    "        \"latitude\": [39.7407, 39.7407, 39.75],\n",
    "        \"longitude\": [-105.1686, -105.1, -105.1],\n",
    "        \"elevation\": 2900,\n",
    "        \"timezone\": -6,\n",
    "    }\n",
    ")\n",
    "meta.index.name = \"gid\"\n",
    "meta"
   ]
  },
  {
   "cell_type": "markdown",
   "metadata": {},
   "source": [
    "### Time index\n",
    "\n",
    "Next, we'll set up the time index. `reV` requires at least hourly data (i.e. minimum of 8760 time steps) to work properly, but 30 minute or even 5 minute data works as well. For demonstration purposes, we will stick to hourly data:"
   ]
  },
  {
   "cell_type": "code",
   "execution_count": 3,
   "metadata": {},
   "outputs": [
    {
     "data": {
      "text/plain": [
       "DatetimeIndex(['2024-01-01 00:00:00', '2024-01-01 01:00:00',\n",
       "               '2024-01-01 02:00:00', '2024-01-01 03:00:00',\n",
       "               '2024-01-01 04:00:00', '2024-01-01 05:00:00',\n",
       "               '2024-01-01 06:00:00', '2024-01-01 07:00:00',\n",
       "               '2024-01-01 08:00:00', '2024-01-01 09:00:00',\n",
       "               ...\n",
       "               '2024-12-31 14:00:00', '2024-12-31 15:00:00',\n",
       "               '2024-12-31 16:00:00', '2024-12-31 17:00:00',\n",
       "               '2024-12-31 18:00:00', '2024-12-31 19:00:00',\n",
       "               '2024-12-31 20:00:00', '2024-12-31 21:00:00',\n",
       "               '2024-12-31 22:00:00', '2024-12-31 23:00:00'],\n",
       "              dtype='datetime64[ns]', length=8784, freq='h')"
      ]
     },
     "execution_count": 3,
     "metadata": {},
     "output_type": "execute_result"
    }
   ],
   "source": [
    "year = datetime.datetime.now().year\n",
    "time_index = pd.date_range(\n",
    "    start=f\"1/1/{year}\", end=f\"1/1/{year + 1}\", freq=\"h\", inclusive=\"left\"\n",
    ")\n",
    "time_index"
   ]
  },
  {
   "cell_type": "markdown",
   "metadata": {},
   "source": [
    "### Resource data\n",
    "The most challenging part of putting together `reV`-compliant resource files is to get the data into the correct format. For simplicity, we will use randomly generate resource data of the correct shape (and units), since the data-mangling step should be done aon a case-by-case basis.\n",
    "\n",
    "For wind resource, four main variables are required: `windspeed`, `winddirection`, `pressure`, and `temperature`. `relativehumidity` is only required for add-on functionality like icing cutoffs. Solar and geothermal have their own minimum requirements (solar requires `dni`, `dhi`, `wind_speed`, and `air_temperature` variables, while geothermal requires `temperature` and `potential_MW`)."
   ]
  },
  {
   "cell_type": "code",
   "execution_count": 4,
   "metadata": {},
   "outputs": [],
   "source": [
    "wind_speed = np.random.rand(len(time_index), len(meta)) * 30  # m/s\n",
    "wind_direction = np.random.rand(len(time_index), len(meta)) * 360  # degrees\n",
    "pressure = np.random.rand(len(time_index), len(meta)) * 20_000 + 90_000  # Pa\n",
    "temperature = np.random.rand(len(time_index), len(meta)) * 25 - 5  # C"
   ]
  },
  {
   "cell_type": "markdown",
   "metadata": {},
   "source": [
    "### Putting it all together\n",
    "\n",
    "Now that we have the three main components (meta, time index, and data variables), we can write the resource file using the `Outputs` class available in `rex`:"
   ]
  },
  {
   "cell_type": "code",
   "execution_count": 5,
   "metadata": {},
   "outputs": [],
   "source": [
    "RES_FILE = \"sample_wtk.h5\"\n",
    "\n",
    "with Outputs(RES_FILE, \"w\") as out:\n",
    "    out.meta = meta\n",
    "    out.time_index = time_index\n",
    "\n",
    "    out.write_dataset(\n",
    "        \"windspeed_100m\",\n",
    "        wind_speed,\n",
    "        dtype=\"float32\",\n",
    "        attrs={\"units\": \"m s-1\"}\n",
    "    )\n",
    "    out.write_dataset(\n",
    "        \"winddirection_100m\",\n",
    "        wind_direction,\n",
    "        dtype=\"float32\",\n",
    "        attrs={\"units\": \"degree\"}\n",
    "    )\n",
    "    out.write_dataset(\n",
    "        \"pressure_0m\",\n",
    "        pressure,\n",
    "        dtype=\"float32\",\n",
    "        attrs={\"units\": \"Pa\"},\n",
    "    )\n",
    "    out.write_dataset(\n",
    "        \"temperature_0m\",\n",
    "        temperature,\n",
    "        dtype=\"float32\",\n",
    "        attrs={\"units\": \"C\"},\n",
    "    )"
   ]
  },
  {
   "cell_type": "markdown",
   "metadata": {},
   "source": [
    "<div class=\"alert alert-block alert-info\">\n",
    "<b>Note:</b> Specifying the units using the \"attrs\" key is optional but helps avoid some warnings being thrown while running reV.</div>\n",
    "\n",
    "This is the minimum amount of information we need to provide. Let's make sure this file can be used to run `reV`!\n",
    "\n",
    "## Running `reV`\n",
    "\n",
    "Before we can run `reV`, we need to specify some details about the turbine technology in the form of a SAM config:\n",
    "\n"
   ]
  },
  {
   "cell_type": "code",
   "execution_count": 6,
   "metadata": {},
   "outputs": [],
   "source": [
    "# Custom power curve\n",
    "power_curve_wind_speeds = list(range(26))\n",
    "power_curve_output = [0, 0, 0, 1, 81, 259, 504, 808, 1159, 1426, 1571, 1609]\n",
    "power_curve_output += [1620] * 13\n",
    "power_curve_output += [0]\n",
    "\n",
    "sam_config = {\n",
    "    \"wind_turbine_hub_ht\": 80,\n",
    "    \"wind_turbine_rotor_diameter\": 77,\n",
    "    \"wind_farm_wake_model\": 0,\n",
    "    \"wind_farm_xCoordinates\": [0],\n",
    "    \"wind_farm_yCoordinates\": [0],\n",
    "    \"wind_resource_shear\": 0.14,\n",
    "    \"wind_resource_turbulence_coeff\": 0.1,\n",
    "    \"wind_turbine_powercurve_windspeeds\": power_curve_wind_speeds,\n",
    "    \"wind_turbine_powercurve_powerout\": power_curve_output,\n",
    "}"
   ]
  },
  {
   "cell_type": "markdown",
   "metadata": {},
   "source": [
    "Note that we are running a turbine with a hub height of 80m through reV using a wind resource set at 100m. Since we only provided one resource height, `reV` will default to just using the wind speeds and directions at 100m. This is confirmed to us via a warning that is thrown during execution:"
   ]
  },
  {
   "cell_type": "code",
   "execution_count": 7,
   "metadata": {},
   "outputs": [
    {
     "name": "stderr",
     "output_type": "stream",
     "text": [
      "/home/ppinchuk/gitrepos/SitingLab/.pixi/envs/dev/lib/python3.11/site-packages/rex/renewable_resource.py:1179: ResourceWarning: Wind speed is only available at 100m, all variables will be extracted at 100m\n",
      "  warnings.warn('Wind speed is only available at {h}m, '\n"
     ]
    },
    {
     "data": {
      "text/plain": [
       "array([0.5982811 , 0.58725756], dtype=float32)"
      ]
     },
     "execution_count": 7,
     "metadata": {},
     "output_type": "execute_result"
    }
   ],
   "source": [
    "gen = Gen(\n",
    "    technology=\"windpower\",\n",
    "    project_points=[0, 2],  # index values of rows in our meta!\n",
    "    sam_files={\"default\": sam_config},\n",
    "    resource_file=RES_FILE,\n",
    "    output_request=(\"cf_mean\", \"cf_profile\")\n",
    ")\n",
    "gen.run(max_workers=1)\n",
    "gen.out[\"cf_mean\"]"
   ]
  },
  {
   "cell_type": "markdown",
   "metadata": {},
   "source": [
    "Despite the warning, everything works as intended! \n",
    "\n",
    "## Adding variables at other heights\n",
    "\n",
    "If we want `reV` to use more appropriate wind speed heights, we have to add more variables to allow for interpolation:"
   ]
  },
  {
   "cell_type": "code",
   "execution_count": 8,
   "metadata": {},
   "outputs": [
    {
     "name": "stdout",
     "output_type": "stream",
     "text": [
      "['meta', 'pressure_0m', 'temperature_0m', 'time_index', 'winddirection_100m', 'winddirection_60m', 'windspeed_100m', 'windspeed_60m']\n"
     ]
    }
   ],
   "source": [
    "wind_speed = np.random.rand(len(time_index), len(meta)) * 30  # m/s\n",
    "wind_direction = np.random.rand(len(time_index), len(meta)) * 360  # degrees\n",
    "\n",
    "with Outputs(RES_FILE, \"a\") as out:\n",
    "\n",
    "    out.write_dataset(\n",
    "        \"windspeed_60m\",\n",
    "        wind_speed,\n",
    "        dtype=\"float32\",\n",
    "        attrs={\"units\": \"m s-1\"}\n",
    "    )\n",
    "    out.write_dataset(\n",
    "        \"winddirection_60m\",\n",
    "        wind_direction,\n",
    "        dtype=\"float32\",\n",
    "        attrs={\"units\": \"degree\"}\n",
    "    )\n",
    "\n",
    "with Resource(RES_FILE) as res:\n",
    "    print(res.datasets)"
   ]
  },
  {
   "cell_type": "code",
   "execution_count": 9,
   "metadata": {},
   "outputs": [
    {
     "data": {
      "text/plain": [
       "array([0.8235814, 0.8160362], dtype=float32)"
      ]
     },
     "execution_count": 9,
     "metadata": {},
     "output_type": "execute_result"
    }
   ],
   "source": [
    "gen = Gen(\n",
    "    technology=\"windpower\",\n",
    "    project_points=[0, 2],\n",
    "    sam_files={\"default\": sam_config},\n",
    "    resource_file=RES_FILE,\n",
    "    output_request=(\"cf_mean\", \"cf_profile\")\n",
    ")\n",
    "gen.run(max_workers=1)\n",
    "gen.out[\"cf_mean\"]"
   ]
  },
  {
   "cell_type": "markdown",
   "metadata": {},
   "source": [
    "No more warning, since `reV` is interpolating between 60m and 100m to get the wind speed at 80m!"
   ]
  },
  {
   "cell_type": "markdown",
   "metadata": {},
   "source": [
    "## Conclusion\n",
    "In this tutorial, we have walked through the basic steps required to create custom `reV`-compliant resource files. You should now be able to:\n",
    "- Understand `reV`-complaint resource HDF5 file structure\n",
    "- Create a meta and time index to represent your spatiotemporal data\n",
    "- Create a `reV`-compliant HDF5 file with custom data using the `Outputs` class from `rex`\n",
    "- Run `reV` on your newly-created resource file\n"
   ]
  }
 ],
 "metadata": {
  "kernelspec": {
   "display_name": "rev_env",
   "language": "python",
   "name": "python3"
  },
  "language_info": {
   "codemirror_mode": {
    "name": "ipython",
    "version": 3
   },
   "file_extension": ".py",
   "mimetype": "text/x-python",
   "name": "python",
   "nbconvert_exporter": "python",
   "pygments_lexer": "ipython3",
   "version": "3.11.10"
  }
 },
 "nbformat": 4,
 "nbformat_minor": 2
}
