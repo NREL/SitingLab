{
 "cells": [
  {
   "cell_type": "markdown",
   "id": "ae6d0699",
   "metadata": {},
   "source": [
    "# Working with GeoTIFFs"
   ]
  },
  {
   "cell_type": "markdown",
   "id": "dd8b1aa5",
   "metadata": {},
   "source": [
    "\n",
    "## Introduction\n",
    "This is the first part of a series of tutorials to get users familiar with `reVX`.\n",
    "\n",
    "`reVX` (https://github.com/NREL/reVX/) is a tool used to support the [reV model](https://github.com/NREL/reV). It provides an interface to get data ready for reV modeling, as well as extracting and formatting reV outputs. \n",
    "\n",
    "Most use cases of `reVX` would involve formatting geospatial raster and vector data for use within reV, as well as formatting reV outputs for uses outside reV.\n",
    "This tutorial will guide you through the process of working with GeoTIFF files using the `Geotiff` handler from the `reVX` library. GeoTIFF is a popular format for geospatial data, and the `Geotiff` handler provides a simple interface to load and extract various information from these files.\n",
    "\n",
    "We'll cover the following steps:\n",
    "1. Loading a GeoTIFF file using a context manager\n",
    "2. Retrieving the profile (metadata)\n",
    "3. Extracting band information\n",
    "4. Extracting data information\n",
    "5. Accessing the data values\n",
    "6. Extracting latitude and longitude coordinates\n",
    "\n",
    "\n",
    "Let's get started!\n"
   ]
  },
  {
   "cell_type": "markdown",
   "id": "0ba42f76",
   "metadata": {
    "tags": [
     "remove-cell"
    ]
   },
   "source": [
    "Let's start with a few common imports:"
   ]
  },
  {
   "cell_type": "code",
   "execution_count": 1,
   "id": "04631e9e",
   "metadata": {
    "tags": [
     "remove-cell"
    ]
   },
   "outputs": [],
   "source": [
    "import urllib.request\n",
    "from pprint import pprint\n",
    "from pathlib import Path\n",
    "\n",
    "import plotly.graph_objects as go"
   ]
  },
  {
   "cell_type": "markdown",
   "id": "aabe7db1",
   "metadata": {},
   "source": [
    "## Downloading the data\n",
    "\n",
    "Before we dive into the code, we first have to download a sample TIFF from \n",
    "[Siting Lab](https://data.openei.org/submissions/6119). \n",
    "In particular, we will be using data from {cite:t}`oedi_6121`.\n",
    "\n",
    "If you have already downloaded the data, you can skip this step (just make sure path variables below are set correctly).\n",
    "We'll start by defining the local file path destination:"
   ]
  },
  {
   "cell_type": "code",
   "execution_count": 2,
   "id": "556104c3",
   "metadata": {},
   "outputs": [],
   "source": [
    "DATA_FP = \"NEXRAD_green_los.tif\""
   ]
  },
  {
   "cell_type": "markdown",
   "id": "fad99dc8",
   "metadata": {},
   "source": [
    "Next, we can write a short download function using `urllib`,\n",
    "which is part of the Python standard library, and call it to download the data."
   ]
  },
  {
   "cell_type": "code",
   "execution_count": 3,
   "id": "29c6ab6e",
   "metadata": {},
   "outputs": [
    {
     "name": "stdout",
     "output_type": "stream",
     "text": [
      "'NEXRAD_green_los.tif' already exists!\n"
     ]
    }
   ],
   "source": [
    "NEXRAD_TIFF_URL = \"https://data.openei.org/files/6121/nexrad_4km.tif\"\n",
    "\n",
    "def download_nexrad_tiff(local_filepath):\n",
    "    if Path(local_filepath).exists():\n",
    "        print(f\"{str(local_filepath)!r} already exists!\")\n",
    "        return\n",
    "\n",
    "    urllib.request.urlretrieve(NEXRAD_TIFF_URL, local_filepath)\n",
    "    print(f\"Downloaded {str(local_filepath)!r}!\")\n",
    "\n",
    "download_nexrad_tiff(DATA_FP)"
   ]
  },
  {
   "cell_type": "markdown",
   "id": "cd62efe6",
   "metadata": {},
   "source": [
    "## Reading the data\n",
    "\n",
    "Now let's use the `Geotiff` handler from the `reVX` library to open the TIFF file in the path defined.\n",
    "\n",
    "### Loading a GeoTIFF file using a context manager\n",
    "\n",
    "The following example will show the use of the handler within a context manager:"
   ]
  },
  {
   "cell_type": "code",
   "execution_count": 12,
   "id": "0bee446c",
   "metadata": {},
   "outputs": [
    {
     "name": "stdout",
     "output_type": "stream",
     "text": [
      "Geotiff methods:\n",
      " - bands\n",
      " - close\n",
      " - dtype\n",
      " - iarr\n",
      " - lat_lon\n",
      " - latitude\n",
      " - longitude\n",
      " - meta\n",
      " - n_cols\n",
      " - n_rows\n",
      " - profile\n",
      " - shape\n",
      " - tiff_shape\n",
      " - values\n",
      " - write\n"
     ]
    }
   ],
   "source": [
    "from reVX.handlers.geotiff import Geotiff\n",
    "\n",
    "# We can use the Geotiff handler within a context manager\n",
    "with Geotiff(DATA_FP) as geo:\n",
    "    methods = [m for m in dir(geo) if not m.startswith(\"_\")]\n",
    "\n",
    "print(\"Geotiff methods:\\n -\", \"\\n - \".join(sorted(methods)))"
   ]
  },
  {
   "cell_type": "markdown",
   "id": "a54d5608",
   "metadata": {},
   "source": [
    "Now we will use the `Geotiff` handler to inspect some properties of the file.\n",
    "\n",
    "### Retrieving the profile (metadata)\n",
    "\n",
    "We can use the `profile` attribute of the `Geotiff` class to get information on the profile:"
   ]
  },
  {
   "cell_type": "code",
   "execution_count": 14,
   "id": "e9eea203",
   "metadata": {},
   "outputs": [
    {
     "name": "stdout",
     "output_type": "stream",
     "text": [
      "GeoTIFF Profile:\n",
      "{'blockxsize': 256,\n",
      " 'blockysize': 256,\n",
      " 'compress': 'lzma',\n",
      " 'count': 1,\n",
      " 'crs': '+init=epsg:5070',\n",
      " 'driver': 'GTiff',\n",
      " 'dtype': 'uint8',\n",
      " 'height': 32697,\n",
      " 'interleave': 'band',\n",
      " 'nodata': 255.0,\n",
      " 'tiled': True,\n",
      " 'transform': (90.0, 0.0, -2400019.7367069316, 0.0, -90.0, 3197068.2309463923),\n",
      " 'width': 52005}\n"
     ]
    }
   ],
   "source": [
    "with Geotiff(DATA_FP) as geo:\n",
    "    profile = geo.profile\n",
    "    print(\"GeoTIFF Profile:\")\n",
    "    pprint(profile)\n"
   ]
  },
  {
   "cell_type": "markdown",
   "id": "ca2b1142",
   "metadata": {},
   "source": [
    "### Extracting band information\n",
    "\n",
    "We can extract the number of bands in the TIFF using the use the `bands` attribute:"
   ]
  },
  {
   "cell_type": "code",
   "execution_count": 15,
   "id": "e1a45bde",
   "metadata": {},
   "outputs": [
    {
     "name": "stdout",
     "output_type": "stream",
     "text": [
      "Number of Bands: 1\n"
     ]
    }
   ],
   "source": [
    "with Geotiff(DATA_FP) as geo:\n",
    "    bands = geo.bands\n",
    "    print(\"Number of Bands:\", bands)\n"
   ]
  },
  {
   "cell_type": "markdown",
   "id": "11a5847f",
   "metadata": {},
   "source": [
    "### Extracting data information\n",
    "\n",
    "We can extract information on the data in the TIFF using the following attributes:"
   ]
  },
  {
   "cell_type": "code",
   "execution_count": 16,
   "id": "549005e7",
   "metadata": {},
   "outputs": [
    {
     "name": "stdout",
     "output_type": "stream",
     "text": [
      "Data Type: uint8\n",
      "Image shape: (32697, 52005)\n"
     ]
    }
   ],
   "source": [
    "with Geotiff(DATA_FP) as geo:\n",
    "    # Determining the Data Type\n",
    "    dtype = geo.dtype\n",
    "    print(\"Data Type:\", dtype)\n",
    "\n",
    "    # Data shape\n",
    "    shape = geo.shape\n",
    "    print(\"Image shape:\", shape)"
   ]
  },
  {
   "cell_type": "markdown",
   "id": "9c270301",
   "metadata": {},
   "source": [
    "### Accessing the data values\n",
    "\n",
    "We can extract the actual data from the TIFF using the `values` attribute:"
   ]
  },
  {
   "cell_type": "code",
   "execution_count": 17,
   "id": "621b4ced",
   "metadata": {},
   "outputs": [
    {
     "name": "stdout",
     "output_type": "stream",
     "text": [
      "<class 'numpy.ndarray'> has a shape of (1, 32697, 52005)\n"
     ]
    }
   ],
   "source": [
    "with Geotiff(DATA_FP) as geo:\n",
    "    # Extract data as a numpy array\n",
    "    data_array = geo.values\n",
    "    print(f\"{type(data_array)} has a shape of {data_array.shape}\")"
   ]
  },
  {
   "cell_type": "markdown",
   "id": "27063d70",
   "metadata": {},
   "source": [
    "### Extracting latitude and longitude coordinates\n",
    "\n",
    "So far we have used the `Geotiff` handler exclusively as a context manager.\n",
    "However, you may also use the `Geotiff` object without a context manager. \n",
    "\n",
    "Here, we extract (lat, lon) coordinates of each pixel location using the `lat_lon` method of the handler:"
   ]
  },
  {
   "cell_type": "code",
   "execution_count": 18,
   "id": "23e2cca1",
   "metadata": {},
   "outputs": [],
   "source": [
    "# Initialize a Geotiff object\n",
    "geo = Geotiff(DATA_FP)\n",
    "\n",
    "# The lat_lon attribute returns the latitude and longitude values as a tuple\n",
    "# lat, lon = geo.lat_lon\n",
    "\n",
    "# print(f\"latitude shape: {lat.shape}, longitude shape: {lon.shape}\")"
   ]
  },
  {
   "cell_type": "markdown",
   "id": "843e8562",
   "metadata": {},
   "source": [
    "The latitude and longitude values can also be extracted individually by using the `.latitude` and\n",
    "`.longitude`` attributes of the handler, respectively.\n",
    "\n",
    "If using the handler without a context manager, use the `close()` method, to close the source object"
   ]
  },
  {
   "cell_type": "code",
   "execution_count": 19,
   "id": "34da9dcf",
   "metadata": {},
   "outputs": [],
   "source": [
    "geo.close()"
   ]
  },
  {
   "cell_type": "markdown",
   "id": "c17fd9f9",
   "metadata": {},
   "source": [
    "\n",
    "## Conclusion\n",
    "In this tutorial, we have walked through the basic steps to load and explore GeoTIFF files using the `Geotiff` handler from the `reVX` library within a context manager. You should now be able to:\n",
    "- Retrieve metadata from a GeoTIFF file\n",
    "- Extract the values as a numpy array\n",
    "- Extract geographic coordinates (latitude and longitude)\n",
    "\n",
    "\n"
   ]
  },
  {
   "cell_type": "markdown",
   "id": "876a9650",
   "metadata": {},
   "source": []
  }
 ],
 "metadata": {
  "kernelspec": {
   "display_name": "rev",
   "language": "python",
   "name": "python3"
  },
  "language_info": {
   "codemirror_mode": {
    "name": "ipython",
    "version": 3
   },
   "file_extension": ".py",
   "mimetype": "text/x-python",
   "name": "python",
   "nbconvert_exporter": "python",
   "pygments_lexer": "ipython3",
   "version": "3.11.10"
  }
 },
 "nbformat": 4,
 "nbformat_minor": 5
}
