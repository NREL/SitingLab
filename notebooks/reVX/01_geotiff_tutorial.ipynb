{
 "cells": [
  {
   "cell_type": "markdown",
   "id": "ae6d0699",
   "metadata": {},
   "source": [
    "# Working with GeoTIFFs"
   ]
  },
  {
   "cell_type": "markdown",
   "id": "dd8b1aa5",
   "metadata": {},
   "source": [
    "\n",
    "## Introduction\n",
    "This is the first part of a series of tutorials to get users familiar with `reVX`.\n",
    "\n",
    "`reVX` (https://github.com/NREL/reVX/) is a tool used to support the [reV model](https://github.com/NREL/reV). It provides an interface to get data ready for reV modeling, as well as extracting and formatting reV outputs. \n",
    "\n",
    "Most use cases of `reVX` would involve formatting geospatial raster and vector data for use within reV, as well as formatting reV outputs for uses outside reV.\n",
    "This tutorial will guide you through the process of working with GeoTIFF files using the `Geotiff` handler from the `reVX` library. GeoTIFF is a popular format for geospatial data, and the `Geotiff` handler provides a simple interface to load and extract various information from these files.\n",
    "\n",
    "We'll cover the following steps:\n",
    "1. Loading a GeoTIFF file using a context manager\n",
    "2. Retrieving the profile (metadata)\n",
    "3. Extracting band information\n",
    "4. Extracting data information\n",
    "5. Accessing the data values\n",
    "6. Extracting latitude and longitude coordinates\n",
    "\n",
    "\n",
    "Let's get started!\n"
   ]
  },
  {
   "cell_type": "markdown",
   "id": "0ba42f76",
   "metadata": {
    "tags": [
     "remove-cell"
    ]
   },
   "source": [
    "Let's start with a few imports:"
   ]
  },
  {
   "cell_type": "code",
   "execution_count": 1,
   "id": "04631e9e",
   "metadata": {
    "tags": [
     "remove-cell"
    ]
   },
   "outputs": [],
   "source": [
    "from pprint import pprint\n",
    "\n",
    "from sl_utils import download_tiff_file"
   ]
  },
  {
   "cell_type": "markdown",
   "id": "aabe7db1",
   "metadata": {},
   "source": [
    "## Downloading the data\n",
    "\n",
    "Before we dive into the code, we first have to download a sample TIFF from \n",
    "[Siting Lab](https://data.openei.org/submissions/6119). \n",
    "In particular, we will be using data from {cite:t}`oedi_6121`.\n",
    "\n",
    "If you have already downloaded the data, you can skip this step (just make sure path variables below are set correctly).\n",
    "We'll start by defining the local file path destination:"
   ]
  },
  {
   "cell_type": "code",
   "execution_count": 2,
   "id": "556104c3",
   "metadata": {},
   "outputs": [],
   "source": [
    "DATA_FP = \"airport_heliport_setbacks.tif\""
   ]
  },
  {
   "cell_type": "markdown",
   "id": "fad99dc8",
   "metadata": {},
   "source": [
    "Next, we can use a siting lab utility function to download the data. This function uses `urllib` (which is part of the Python standard library) under the hood.\n",
    "\n",
    "<div class=\"alert alert-block alert-info\">\n",
    "<b>Tip:</b> You can view the contents of <code class=\"python\">download_tiff_file</code> <a href=\"https://github.com/NREL/SitingLab/blob/dda380101597b519d7538fd2bfafcb9950427a77/notebooks/reVX/sl_utils.py#L30\" title=\"download_tiff_file\">online</a>\n",
    "or by using the <code class=\"ipython\">%load</code> magic method in Jupyter. For the latter, simply type <code class=\"ipython\">%load sl_utils</code> at the top of an empty cell and execute it.</div>"
   ]
  },
  {
   "cell_type": "code",
   "execution_count": null,
   "id": "29c6ab6e",
   "metadata": {
    "tags": [
     "remove-output"
    ]
   },
   "outputs": [],
   "source": [
    "TIFF_URL = \"https://data.openei.org/files/6120/airport_heliport_setbacks.tif\"\n",
    "download_tiff_file(TIFF_URL, DATA_FP, crop=True)"
   ]
  },
  {
   "cell_type": "markdown",
   "id": "1349267b",
   "metadata": {},
   "source": [
    "<div class=\"alert alert-block alert-warning\">\n",
    "<b>Note:</b> The source TIFF files are large (90m resolution for all of CONUS), so we specified <code class=\"python\">crop=True</code> to crop the data immediately after downloading it to make it easier to work with. If you have a machine with sufficiently large memory (32GB+), or you are downloading the file in order to use it for analysis purposes, you should set <code class=\"python\">crop=False</code>.\n",
    "</div>"
   ]
  },
  {
   "cell_type": "markdown",
   "id": "cd62efe6",
   "metadata": {},
   "source": [
    "## Reading the data\n",
    "\n",
    "Now let's use the `Geotiff` handler from the `reVX` library to open the TIFF file in the path defined.\n",
    "\n",
    "### Loading a GeoTIFF file using a context manager\n",
    "\n",
    "The following example will show the use of the handler within a context manager:"
   ]
  },
  {
   "cell_type": "code",
   "execution_count": null,
   "id": "0bee446c",
   "metadata": {},
   "outputs": [],
   "source": [
    "from reVX.handlers.geotiff import Geotiff\n",
    "\n",
    "# We can use the Geotiff handler within a context manager\n",
    "with Geotiff(DATA_FP) as geo:\n",
    "    methods = [m for m in dir(geo) if not m.startswith(\"_\")]\n",
    "\n",
    "print(\"Geotiff methods:\\n -\", \"\\n - \".join(sorted(methods)))"
   ]
  },
  {
   "cell_type": "markdown",
   "id": "a54d5608",
   "metadata": {},
   "source": [
    "Now we will use the `Geotiff` handler to inspect some properties of the file.\n",
    "\n",
    "### Retrieving the profile (metadata)\n",
    "\n",
    "We can use the `profile` attribute of the `Geotiff` class to get information on the profile:"
   ]
  },
  {
   "cell_type": "code",
   "execution_count": null,
   "id": "e9eea203",
   "metadata": {},
   "outputs": [],
   "source": [
    "with Geotiff(DATA_FP) as geo:\n",
    "    profile = geo.profile\n",
    "    print(\"GeoTIFF Profile:\")\n",
    "    pprint(profile)\n"
   ]
  },
  {
   "cell_type": "markdown",
   "id": "ca2b1142",
   "metadata": {},
   "source": [
    "### Extracting band information\n",
    "\n",
    "We can extract the number of bands in the TIFF using the use the `bands` attribute:"
   ]
  },
  {
   "cell_type": "code",
   "execution_count": null,
   "id": "e1a45bde",
   "metadata": {},
   "outputs": [],
   "source": [
    "with Geotiff(DATA_FP) as geo:\n",
    "    bands = geo.bands\n",
    "    print(\"Number of Bands:\", bands)"
   ]
  },
  {
   "cell_type": "markdown",
   "id": "11a5847f",
   "metadata": {},
   "source": [
    "### Extracting data information\n",
    "\n",
    "We can extract information on the data in the TIFF using the following attributes:"
   ]
  },
  {
   "cell_type": "code",
   "execution_count": null,
   "id": "549005e7",
   "metadata": {},
   "outputs": [],
   "source": [
    "with Geotiff(DATA_FP) as geo:\n",
    "    # Determining the Data Type\n",
    "    dtype = geo.dtype\n",
    "    print(\"Data Type:\", dtype)\n",
    "\n",
    "    # Data shape\n",
    "    shape = geo.shape\n",
    "    print(\"Image shape:\", shape)"
   ]
  },
  {
   "cell_type": "markdown",
   "id": "9c270301",
   "metadata": {},
   "source": [
    "### Accessing the data values\n",
    "\n",
    "We can extract the actual data from the TIFF using the `values` attribute:"
   ]
  },
  {
   "cell_type": "code",
   "execution_count": null,
   "id": "621b4ced",
   "metadata": {},
   "outputs": [],
   "source": [
    "with Geotiff(DATA_FP) as geo:\n",
    "    # Extract data as a numpy array\n",
    "    data_array = geo.values\n",
    "    print(f\"{type(data_array)} has a shape of {data_array.shape}\")"
   ]
  },
  {
   "cell_type": "markdown",
   "id": "27063d70",
   "metadata": {},
   "source": [
    "### Extracting latitude and longitude coordinates\n",
    "\n",
    "So far we have used the `Geotiff` handler exclusively as a context manager.\n",
    "However, you may also use the `Geotiff` object without a context manager:"
   ]
  },
  {
   "cell_type": "code",
   "execution_count": 9,
   "id": "23e2cca1",
   "metadata": {},
   "outputs": [],
   "source": [
    "# Initialize a Geotiff object\n",
    "geo = Geotiff(DATA_FP)"
   ]
  },
  {
   "cell_type": "markdown",
   "id": "aa5f95f1",
   "metadata": {},
   "source": [
    "We can use the initialized `Geotiff` object to extract the (lat, lon) coordinates of all pixels using the `lat_lon` property:"
   ]
  },
  {
   "cell_type": "code",
   "execution_count": null,
   "id": "f078f208",
   "metadata": {},
   "outputs": [],
   "source": [
    "# The lat_lon property returns the latitude and longitude values as a tuple\n",
    "lat, lon = geo.lat_lon\n",
    "\n",
    "print(f\"latitude min, max: {lat.min(), lat.max()}\")\n",
    "print(f\"longitude min, max: {lon.min(), lon.max()}\")"
   ]
  },
  {
   "cell_type": "markdown",
   "id": "7c00dfd5",
   "metadata": {},
   "source": [
    "Alternatively, we can down-select to only the first 100x100 pixels (i.e. the Northwest corner of the raster) by requesting the `\"lat_lon\"` values from the handler:"
   ]
  },
  {
   "cell_type": "code",
   "execution_count": null,
   "id": "51a10e95",
   "metadata": {},
   "outputs": [],
   "source": [
    "# Like `geo.lat_lon`, this returns the latitude and longitude values as a tuple\n",
    "lat, lon = geo[\"lat_lon\", :100, :100]\n",
    "\n",
    "print(f\"NW Corner latitude min, max: {lat.min(), lat.max()}\")\n",
    "print(f\"NW Corner longitude min, max: {lon.min(), lon.max()}\")"
   ]
  },
  {
   "cell_type": "markdown",
   "id": "843e8562",
   "metadata": {},
   "source": [
    "The latitude and longitude values can also be extracted individually by using the `.latitude` and\n",
    "`.longitude`` attributes of the handler, respectively."
   ]
  },
  {
   "cell_type": "code",
   "execution_count": null,
   "id": "37740f5e",
   "metadata": {},
   "outputs": [],
   "source": [
    "lat = geo.latitude\n",
    "lon = geo.longitude\n",
    "\n",
    "print(f\"latitude min, max: {lat.min(), lat.max()}\")\n",
    "print(f\"longitude min, max: {lon.min(), lon.max()}\")"
   ]
  },
  {
   "cell_type": "markdown",
   "id": "68e05cf2",
   "metadata": {},
   "source": [
    "If using the handler without a context manager, use the `close()` method, to close the source object"
   ]
  },
  {
   "cell_type": "code",
   "execution_count": 13,
   "id": "34da9dcf",
   "metadata": {},
   "outputs": [],
   "source": [
    "geo.close()"
   ]
  },
  {
   "cell_type": "markdown",
   "id": "c17fd9f9",
   "metadata": {},
   "source": [
    "\n",
    "## Conclusion\n",
    "In this tutorial, we have walked through the basic steps to load and explore GeoTIFF files using the `Geotiff` handler from the `reVX` library within a context manager. You should now be able to:\n",
    "- Retrieve metadata from a GeoTIFF file\n",
    "- Extract the values as a numpy array\n",
    "- Extract geographic coordinates (latitude and longitude)\n",
    "\n",
    "\n"
   ]
  }
 ],
 "metadata": {
  "kernelspec": {
   "display_name": "rev",
   "language": "python",
   "name": "python3"
  },
  "language_info": {
   "codemirror_mode": {
    "name": "ipython",
    "version": 3
   },
   "file_extension": ".py",
   "mimetype": "text/x-python",
   "name": "python",
   "nbconvert_exporter": "python",
   "pygments_lexer": "ipython3",
   "version": "3.11.6"
  }
 },
 "nbformat": 4,
 "nbformat_minor": 5
}
