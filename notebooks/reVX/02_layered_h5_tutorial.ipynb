{
 "cells": [
  {
   "cell_type": "markdown",
   "metadata": {},
   "source": [
    "# GeoTIFFs to reV HDF5 Files"
   ]
  },
  {
   "cell_type": "markdown",
   "metadata": {},
   "source": [
    "In the previous tutorial, we demostrated how we can use `reVX`'s Geotiff handler to manage geotiff files\n",
    "\n",
    "In this tutorial, we will go over getting tiff files into a [reV](https://github.com/NREL/reV)-ready format using the `LayeredH5` handler"
   ]
  },
  {
   "cell_type": "markdown",
   "metadata": {
    "tags": [
     "remove-cell"
    ]
   },
   "source": [
    "Let's start with a few common imports:"
   ]
  },
  {
   "cell_type": "code",
   "execution_count": 1,
   "metadata": {
    "tags": [
     "remove-cell"
    ]
   },
   "outputs": [],
   "source": [
    "import urllib.request\n",
    "from pathlib import Path\n",
    "\n",
    "from reVX.handlers.layered_h5 import LayeredH5\n",
    "from reVX.handlers.geotiff import Geotiff"
   ]
  },
  {
   "cell_type": "markdown",
   "metadata": {},
   "source": [
    "## Downloading the data\n",
    "\n",
    "Before we dive into the code, we first have to download a sample TIFF from \n",
    "[Siting Lab](https://data.openei.org/submissions/6119) to use as an example of adding data to a layered HDF5 file. \n",
    "In particular, we will be using data from {cite:t}`oedi_6121`.\n",
    "\n",
    "If you have already downloaded the data, you can skip this step (just make sure path variables below are set correctly).\n",
    "We'll start by defining the local file path destination:"
   ]
  },
  {
   "cell_type": "code",
   "execution_count": 2,
   "metadata": {},
   "outputs": [],
   "source": [
    "TEMPLATE_TIFF = \"NEXRAD_green_los.tif\""
   ]
  },
  {
   "cell_type": "markdown",
   "metadata": {},
   "source": [
    "Next, we can write a short download function using `urllib`,\n",
    "which is part of the Python standard library, and call it to download the data."
   ]
  },
  {
   "cell_type": "code",
   "execution_count": 3,
   "metadata": {},
   "outputs": [
    {
     "name": "stdout",
     "output_type": "stream",
     "text": [
      "'NEXRAD_green_los.tif' already exists!\n"
     ]
    }
   ],
   "source": [
    "NEXRAD_TIFF_URL = \"https://data.openei.org/files/6121/nexrad_4km.tif\"\n",
    "\n",
    "def download_nexrad_tiff(local_filepath):\n",
    "    if Path(local_filepath).exists():\n",
    "        print(f\"{str(local_filepath)!r} already exists!\")\n",
    "        return\n",
    "\n",
    "    urllib.request.urlretrieve(NEXRAD_TIFF_URL, local_filepath)\n",
    "    print(f\"Downloaded {str(local_filepath)!r}!\")\n",
    "\n",
    "download_nexrad_tiff(TEMPLATE_TIFF)"
   ]
  },
  {
   "cell_type": "markdown",
   "metadata": {},
   "source": [
    "## Creating the layered HDF5 from TIFF\n",
    "\n",
    "First, we will initialize the `LayeredH5` object.\n",
    "\n",
    "If creating a new HDF5 file that does not exist, we use the `.create_new()` method. \n",
    "\n",
    "When creating a new HDF5, a template filepath must be specified. The template file is used to define the properties of the HDF5 file including:\n",
    "1. The profile information\n",
    "2. Coordinate reference system and projection\n",
    "3. The geographic extent, spatial resolution\n",
    "\n",
    "All other files that are subsequently added to the HDF5 file will be transformed/adjusted to fit the properties of the template file before being written to the file."
   ]
  },
  {
   "cell_type": "code",
   "execution_count": 4,
   "metadata": {},
   "outputs": [
    {
     "ename": "",
     "evalue": "",
     "output_type": "error",
     "traceback": [
      "\u001b[1;31mThe Kernel crashed while executing code in the current cell or a previous cell. \n",
      "\u001b[1;31mPlease review the code in the cell(s) to identify a possible cause of the failure. \n",
      "\u001b[1;31mClick <a href='https://aka.ms/vscodeJupyterKernelCrash'>here</a> for more info. \n",
      "\u001b[1;31mView Jupyter <a href='command:jupyter.viewOutput'>log</a> for further details."
     ]
    }
   ],
   "source": [
    "H5_PATH = \"example.h5\"\n",
    "\n",
    "# Initialize layered h5 object\n",
    "h5 = LayeredH5(H5_PATH, template_file=TEMPLATE_TIFF)\n",
    "\n",
    "# If file doesn't exist, create new h5\n",
    "h5.create_new()"
   ]
  },
  {
   "cell_type": "markdown",
   "metadata": {},
   "source": [
    "Inspecting the h5 file (using the `layers` property), we see that the first two layers are longitude and latitude arrays. These are the coordinate locations for each grid cell defined by the template file pixels."
   ]
  },
  {
   "cell_type": "code",
   "execution_count": 4,
   "metadata": {},
   "outputs": [
    {
     "ename": "NameError",
     "evalue": "name 'h5' is not defined",
     "output_type": "error",
     "traceback": [
      "\u001b[0;31m---------------------------------------------------------------------------\u001b[0m",
      "\u001b[0;31mNameError\u001b[0m                                 Traceback (most recent call last)",
      "Cell \u001b[0;32mIn[4], line 2\u001b[0m\n\u001b[1;32m      1\u001b[0m \u001b[38;5;66;03m# Use the layer method to see the layers in the H5 file\u001b[39;00m\n\u001b[0;32m----> 2\u001b[0m \u001b[43mh5\u001b[49m\u001b[38;5;241m.\u001b[39mlayers\n",
      "\u001b[0;31mNameError\u001b[0m: name 'h5' is not defined"
     ]
    }
   ],
   "source": [
    "# Use the layer method to see the layers in the H5 file\n",
    "h5.layers"
   ]
  },
  {
   "cell_type": "markdown",
   "metadata": {},
   "source": [
    "Meta data information about the h5 file can be retrieved by using `.profile` and `.shape`"
   ]
  },
  {
   "cell_type": "code",
   "execution_count": 21,
   "metadata": {},
   "outputs": [
    {
     "name": "stdout",
     "output_type": "stream",
     "text": [
      "H5 profile: {'driver': 'GTiff', 'dtype': 'uint8', 'nodata': 255.0, 'width': 52005, 'height': 32697, 'count': 1, 'crs': '+init=epsg:5070', 'transform': (90.0, 0.0, -2400019.7367069316, 0.0, -90.0, 3197068.2309463923), 'blockxsize': 256, 'blockysize': 256, 'tiled': True, 'compress': 'lzma', 'interleave': 'band'}\n",
      "shape: (32697, 52005)\n"
     ]
    }
   ],
   "source": [
    "print(f\"H5 profile: {h5.profile}\")\n",
    "print(f\"shape: {h5.shape}\")"
   ]
  },
  {
   "cell_type": "markdown",
   "metadata": {},
   "source": [
    "Once the H5 file is created(or if it exists already), we can write numpy arrays and tiff files into the h5 files using the `.write_layer_to_h5()` and `.write_geotiff_to_h5()` respectively"
   ]
  },
  {
   "cell_type": "code",
   "execution_count": 10,
   "metadata": {},
   "outputs": [],
   "source": [
    "# adding numpy arrays\n",
    "\n",
    "#Let's read in a geotiff file into a numpy array using the Geotiff handler\n",
    "filepath = DATA.joinpath(\"nexrad_green_los.tif\")\n",
    "with Geotiff(filepath) as geo:\n",
    "    arr = geo.values #np array\n",
    "    profile = geo.profile\n",
    "\n",
    "# add to h5\n",
    "h5.write_layer_to_h5(values=arr,\n",
    "                     layer_name=filepath.stem,\n",
    "                     profile=profile,\n",
    "                     description='NEXRAD Line of sight')"
   ]
  },
  {
   "cell_type": "code",
   "execution_count": 11,
   "metadata": {},
   "outputs": [],
   "source": [
    "#adding a geotiff file directly\n",
    "filepath = DATA.joinpath(\"airport_heliport_setbacks.tif\")\n",
    "h5.write_geotiff_to_h5(geotiff=filepath,\n",
    "                       layer_name=filepath.stem,\n",
    "                       description='Setbacks from airports and heliports',\n",
    "                       replace=False)\n"
   ]
  },
  {
   "cell_type": "markdown",
   "metadata": {},
   "source": [
    "Now we can check to see what layers are currently in the H5 file"
   ]
  },
  {
   "cell_type": "code",
   "execution_count": 24,
   "metadata": {},
   "outputs": [
    {
     "data": {
      "text/plain": [
       "['airport_heliport_setbacks', 'latitude', 'longitude', 'nexrad_green_los']"
      ]
     },
     "execution_count": 24,
     "metadata": {},
     "output_type": "execute_result"
    }
   ],
   "source": [
    "# Checking current layers in the\n",
    "h5.layers"
   ]
  },
  {
   "cell_type": "markdown",
   "metadata": {},
   "source": [
    "We can also add multiple geotiffs into the h5 using the `.layers_to_h5()` method. \n",
    "\n",
    "This accepts a list or dictionary mapping layer name to geotiff filepaths. You can also pass a dictionary mapping layer name to description for the `description` argument"
   ]
  },
  {
   "cell_type": "code",
   "execution_count": 12,
   "metadata": {},
   "outputs": [
    {
     "name": "stdout",
     "output_type": "stream",
     "text": [
      "Adding 3 file(s) to the h5...\n",
      "setbacks_pipeline_reference\n",
      "setbacks_structure_reference\n",
      "setbacks_structure_115hh_170rd\n"
     ]
    }
   ],
   "source": [
    "file_list = list(DATA.glob(\"*.tif\"))[:3]\n",
    "\n",
    "print(f\"Adding {len(file_list)} file(s) to the h5...\")\n",
    "for file in file_list:\n",
    "    print(file.stem)\n",
    "\n",
    "h5.layers_to_h5(\n",
    "    layers=file_list,\n",
    "    replace=False\n",
    ")"
   ]
  },
  {
   "cell_type": "code",
   "execution_count": 13,
   "metadata": {},
   "outputs": [
    {
     "data": {
      "text/plain": [
       "['airport_heliport_setbacks',\n",
       " 'latitude',\n",
       " 'longitude',\n",
       " 'nexrad_green_los',\n",
       " 'setbacks_pipeline_reference',\n",
       " 'setbacks_structure_115hh_170rd',\n",
       " 'setbacks_structure_reference']"
      ]
     },
     "execution_count": 13,
     "metadata": {},
     "output_type": "execute_result"
    }
   ],
   "source": [
    "# Checking current layers in the h5\n",
    "h5.layers"
   ]
  },
  {
   "cell_type": "markdown",
   "metadata": {},
   "source": [
    "Layers in the h5 file can also be extracted as geotiffs. `.layer_to_geotiff()` for single layers, `.extract_layers()` for multiple layers.\n",
    "\n",
    "All the layers in the h5 can be extracted using `.extract_all_layers()` by passing an output directory as argument."
   ]
  },
  {
   "cell_type": "code",
   "execution_count": 28,
   "metadata": {},
   "outputs": [],
   "source": [
    "#extracting single layer\n",
    "layer = 'ops_water'\n",
    "outpath = DATA.joinpath(\"ops_water_h5_extract.tif\")\n",
    "h5.layer_to_geotiff(layer=layer,\n",
    "                    geotiff=outpath)\n",
    "\n",
    "\n",
    "#Extracting multiple layers\n",
    "layers = {\n",
    "    'nexrad_green_los': DATA.joinpath(\"nexrad_green_los_h5_extract.tif\"),\n",
    "    'setbacks_pipeline_reference': DATA.joinpath(\"setbacks_pipeline_reference_h5_extract.tif\")\n",
    "}\n",
    "h5.extract_layers(layers)"
   ]
  },
  {
   "cell_type": "markdown",
   "metadata": {},
   "source": [
    "### Using the command line to add and extract layers from h5 files"
   ]
  },
  {
   "cell_type": "markdown",
   "metadata": {},
   "source": [
    "Alternatively, the command line can be used to add and extract layers from the h5 file\n",
    "\n",
    "**1. Adding tiffs to the h5** \n",
    "\n",
    "First, we need to construct a json config file that contains layer name mapping to geotiff filepaths\n",
    "This json configuration file can optionally contain layer descriptions\n"
   ]
  },
  {
   "cell_type": "markdown",
   "metadata": {},
   "source": [
    "`layers.json`\n",
    "```json\n",
    "{\n",
    "    \"layers\":\n",
    "        {\n",
    "            \"nexrad_green_los\": \"../data/nexrad_green_los.tif\",\n",
    "            \"ops_water\": \"../data/ops_water.tif\",\n",
    "            \"setbacks_transmission_reference\": \"../data/setbacks_transmission_reference.tif\"\n",
    "        }\n",
    "}\n",
    "```"
   ]
  },
  {
   "cell_type": "markdown",
   "metadata": {},
   "source": [
    "Then we run `$ reVX exclusions layers-to-h5  -h5 \"../data/example.h5\" --layers layers.json` on the command line."
   ]
  },
  {
   "cell_type": "markdown",
   "metadata": {},
   "source": [
    "**2. Extracting layers from h5**\n",
    "\n",
    "To extract layers from the h5 file, we pass the list of layers to extract as an argument and an output directory\n",
    "\n",
    "Example: `$ reVX exclusions layers-from-h5 -h5 \"../data/example.h5\" -l nexrad_green_los ops_water setbacks_transmission_reference -o \"./outputs\"`"
   ]
  }
 ],
 "metadata": {
  "kernelspec": {
   "display_name": "rev_env",
   "language": "python",
   "name": "python3"
  },
  "language_info": {
   "codemirror_mode": {
    "name": "ipython",
    "version": 3
   },
   "file_extension": ".py",
   "mimetype": "text/x-python",
   "name": "python",
   "nbconvert_exporter": "python",
   "pygments_lexer": "ipython3",
   "version": "3.11.10"
  }
 },
 "nbformat": 4,
 "nbformat_minor": 2
}
