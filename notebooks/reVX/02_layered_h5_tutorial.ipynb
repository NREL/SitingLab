{
 "cells": [
  {
   "cell_type": "markdown",
   "metadata": {},
   "source": [
    "# GeoTIFFs to reV HDF5 Files"
   ]
  },
  {
   "cell_type": "markdown",
   "metadata": {},
   "source": [
    "In the previous tutorial, we demostrated how we can use `reVX`'s Geotiff handler to manage geotiff files\n",
    "\n",
    "In this tutorial, we will go over getting tiff files into a [reV](https://github.com/NREL/reV)-ready format using the `LayeredH5` handler"
   ]
  },
  {
   "cell_type": "markdown",
   "metadata": {
    "tags": [
     "remove-cell"
    ]
   },
   "source": [
    "Let's start with a few common imports:"
   ]
  },
  {
   "cell_type": "code",
   "execution_count": 1,
   "metadata": {
    "tags": [
     "remove-cell"
    ]
   },
   "outputs": [],
   "source": [
    "import urllib.request\n",
    "from pathlib import Path\n",
    "from multiprocessing.pool import ThreadPool\n",
    "\n",
    "from reVX.handlers.layered_h5 import LayeredH5\n",
    "from reVX.handlers.geotiff import Geotiff\n",
    "\n",
    "from sl_utils import download_tiff_file"
   ]
  },
  {
   "cell_type": "code",
   "execution_count": 2,
   "metadata": {
    "tags": [
     "remove-cell"
    ]
   },
   "outputs": [],
   "source": [
    "# uncomment below if you want to see the contents of `download_tiff_file`\n",
    "# %load sl_utils"
   ]
  },
  {
   "cell_type": "markdown",
   "metadata": {},
   "source": [
    "## Downloading the data\n",
    "\n",
    "Before we dive into the code, we first have to download a sample TIFF from \n",
    "[Siting Lab](https://data.openei.org/submissions/6119) to use as an example of adding data to a layered HDF5 file. \n",
    "In particular, we will be using data from {cite:t}`oedi_6121`.\n",
    "\n",
    "If you have already downloaded the data, you can skip this step (just make sure path variables below are set correctly).\n",
    "We'll start by defining the local file path destination:"
   ]
  },
  {
   "cell_type": "code",
   "execution_count": 4,
   "metadata": {},
   "outputs": [],
   "source": [
    "AIRPORT_HELIPORT_SETBACKS = \"airport_heliport_setbacks.tif\"\n",
    "NEXRAD_GREEN_LOS = \"NEXRAD_green_los.tif\"\n",
    "SETBACKS_PIPELINE_REFERENCE = \"setbacks_pipeline_reference.tif\"\n",
    "SETBACKS_STRUCTURE_115HH_170RD = \"setbacks_structure_115hh_170rd.tif\"\n",
    "SETBACKS_STRUCTURE_REFERENCE = \"setbacks_structure_reference.tif\""
   ]
  },
  {
   "cell_type": "markdown",
   "metadata": {},
   "source": [
    "Let's also define the URL for each of these files:"
   ]
  },
  {
   "cell_type": "code",
   "execution_count": 5,
   "metadata": {},
   "outputs": [],
   "source": [
    "FILE_URLS = {\n",
    "    AIRPORT_HELIPORT_SETBACKS: \"https://data.openei.org/files/6120/airport_heliport_setbacks.tif\",\n",
    "    NEXRAD_GREEN_LOS: \"https://data.openei.org/files/6121/nexrad_4km.tif\",\n",
    "    SETBACKS_PIPELINE_REFERENCE: \"https://data.openei.org/files/6125/setbacks_pipeline_115hh_170rd_extrapolated.tif\",\n",
    "    SETBACKS_STRUCTURE_115HH_170RD: \"https://data.openei.org/files/6132/setbacks_structure_115hh_170rd_extrapolated.tif\",\n",
    "    SETBACKS_STRUCTURE_REFERENCE : \"https://data.openei.org/files/6132/setbacks_structure_115hh_170rd.tif\"\n",
    "}"
   ]
  },
  {
   "cell_type": "markdown",
   "metadata": {},
   "source": [
    "Next, we can use a siting lab utility function to download the data. This function uses `urllib` (which is part of the Python standard library) under the hood.\n",
    "\n",
    "<div class=\"alert alert-block alert-warning\">\n",
    "<b>Note:</b> The source TIFF files are large (90m resolution for all of CONUS), so we specified <code class=\"python\">crop=True</code> to crop the data immediately after downloading it to make it easier to work with. If you have a machine with sufficiently large memory (32GB+), or you are downloading the file in order to use it for analysis purposes, you should set <code class=\"python\">crop=False</code>.\n",
    "</div>"
   ]
  },
  {
   "cell_type": "code",
   "execution_count": 6,
   "metadata": {},
   "outputs": [
    {
     "name": "stdout",
     "output_type": "stream",
     "text": [
      "'airport_heliport_setbacks.tif' already exists!\n",
      "Downloaded 'NEXRAD_green_los.tif'!\n",
      "Downloaded 'setbacks_structure_reference.tif'!\n",
      "Downloaded 'setbacks_pipeline_reference.tif'!\n",
      "Downloaded 'setbacks_structure_115hh_170rd.tif'!\n"
     ]
    }
   ],
   "source": [
    "def download(local_filepath):\n",
    "    url = FILE_URLS[local_filepath]\n",
    "    download_tiff_file(url, local_filepath, crop=True)\n",
    "\n",
    "\n",
    "with ThreadPool(len(FILE_URLS)) as p:\n",
    "    p.map(download, FILE_URLS)"
   ]
  },
  {
   "cell_type": "markdown",
   "metadata": {},
   "source": [
    "## Creating the layered HDF5 from TIFF\n",
    "\n",
    "First, we will initialize the `LayeredH5` object.\n",
    "\n",
    "If creating a new HDF5 file that does not exist, we use the `.create_new()` method. \n",
    "\n",
    "When creating a new HDF5, a template filepath must be specified. The template file is used to define the properties of the HDF5 file including:\n",
    "1. The profile information\n",
    "2. Coordinate reference system and projection\n",
    "3. The geographic extent, spatial resolution\n",
    "\n",
    "All other files that are subsequently added to the HDF5 file will be transformed/adjusted to fit the properties of the template file before being written to the file."
   ]
  },
  {
   "cell_type": "code",
   "execution_count": 7,
   "metadata": {},
   "outputs": [],
   "source": [
    "H5_PATH = \"example.h5\"\n",
    "\n",
    "# Initialize layered h5 object\n",
    "h5 = LayeredH5(H5_PATH, template_file=NEXRAD_GREEN_LOS)\n",
    "\n",
    "# If file doesn't exist, create new h5\n",
    "h5.create_new()"
   ]
  },
  {
   "cell_type": "markdown",
   "metadata": {},
   "source": [
    "Inspecting the h5 file (using the `layers` property), we see that the first two layers are longitude and latitude arrays. These are the coordinate locations for each grid cell defined by the template file pixels."
   ]
  },
  {
   "cell_type": "code",
   "execution_count": 8,
   "metadata": {},
   "outputs": [
    {
     "data": {
      "text/plain": [
       "['latitude', 'longitude']"
      ]
     },
     "execution_count": 8,
     "metadata": {},
     "output_type": "execute_result"
    }
   ],
   "source": [
    "# Use the layer method to see the layers in the H5 file\n",
    "h5.layers"
   ]
  },
  {
   "cell_type": "markdown",
   "metadata": {},
   "source": [
    "Meta data information about the h5 file can be retrieved by using `.profile` and `.shape`"
   ]
  },
  {
   "cell_type": "code",
   "execution_count": 9,
   "metadata": {},
   "outputs": [
    {
     "name": "stdout",
     "output_type": "stream",
     "text": [
      "H5 profile: {'driver': 'GTiff', 'dtype': 'uint8', 'nodata': 255.0, 'width': 2000, 'height': 2000, 'count': 1, 'crs': '+init=epsg:5070', 'transform': (90.0, 0.0, 1829980.2632930684, 0.0, -90.0, 2297068.2309463923), 'blockxsize': 256, 'blockysize': 256, 'tiled': True, 'compress': 'lzma', 'interleave': 'band'}\n",
      "shape: (2000, 2000)\n"
     ]
    }
   ],
   "source": [
    "print(f\"H5 profile: {h5.profile}\")\n",
    "print(f\"shape: {h5.shape}\")"
   ]
  },
  {
   "cell_type": "markdown",
   "metadata": {},
   "source": [
    "Once the H5 file is created(or if it exists already), we can write numpy arrays and tiff files into the h5 files using the `.write_layer_to_h5()` and `.write_geotiff_to_h5()` respectively"
   ]
  },
  {
   "cell_type": "code",
   "execution_count": 10,
   "metadata": {},
   "outputs": [],
   "source": [
    "# adding numpy arrays\n",
    "\n",
    "# Let's read in a geotiff file into a numpy array using the Geotiff handler\n",
    "with Geotiff(NEXRAD_GREEN_LOS) as geo:\n",
    "    h5.write_layer_to_h5(\n",
    "        values=geo.values,\n",
    "        layer_name=\"nexrad_green_los\",\n",
    "        profile=geo.profile,\n",
    "        description=\"NEXRAD Line of sight\"\n",
    "    )"
   ]
  },
  {
   "cell_type": "code",
   "execution_count": 11,
   "metadata": {},
   "outputs": [
    {
     "name": "stderr",
     "output_type": "stream",
     "text": [
      "/home/ppinchuk/gitrepos/SitingLab/.pixi/envs/dev/lib/python3.11/site-packages/pyproj/crs/crs.py:141: FutureWarning: '+init=<authority>:<code>' syntax is deprecated. '<authority>:<code>' is the preferred initialization method. When making the change, be mindful of axis order changes: https://pyproj4.github.io/pyproj/stable/gotchas.html#axis-order-changes-in-proj-6\n",
      "  in_crs_string = _prepare_from_proj_string(in_crs_string)\n",
      "/home/ppinchuk/gitrepos/SitingLab/.pixi/envs/dev/lib/python3.11/site-packages/pyproj/crs/crs.py:1293: UserWarning: You will likely lose important projection information when converting to a PROJ string from another format. See: https://proj.org/faq.html#what-is-the-best-format-for-describing-coordinate-reference-systems\n",
      "  proj = self._crs.to_proj4(version=version)\n"
     ]
    }
   ],
   "source": [
    "# adding a geotiff file directly\n",
    "h5.write_geotiff_to_h5(\n",
    "    geotiff=AIRPORT_HELIPORT_SETBACKS,\n",
    "    layer_name=\"airport_heliport_setbacks\",\n",
    "    description=\"Setbacks from airports and heliports\",\n",
    "    replace=False\n",
    ")"
   ]
  },
  {
   "cell_type": "markdown",
   "metadata": {},
   "source": [
    "Now we can check to see what layers are currently in the H5 file"
   ]
  },
  {
   "cell_type": "code",
   "execution_count": 12,
   "metadata": {},
   "outputs": [
    {
     "data": {
      "text/plain": [
       "['airport_heliport_setbacks', 'latitude', 'longitude', 'nexrad_green_los']"
      ]
     },
     "execution_count": 12,
     "metadata": {},
     "output_type": "execute_result"
    }
   ],
   "source": [
    "# Checking current layers in the\n",
    "h5.layers"
   ]
  },
  {
   "cell_type": "markdown",
   "metadata": {},
   "source": [
    "We can also add multiple geotiffs into the h5 using the `.layers_to_h5()` method. \n",
    "\n",
    "This accepts a list or dictionary mapping layer name to geotiff filepaths. You can also pass a dictionary mapping layer name to description for the `description` argument"
   ]
  },
  {
   "cell_type": "code",
   "execution_count": 13,
   "metadata": {},
   "outputs": [
    {
     "name": "stdout",
     "output_type": "stream",
     "text": [
      "Adding 3 file(s) to the h5...\n",
      "setbacks_pipeline_reference\n",
      "setbacks_structure_115hh_170rd\n",
      "setbacks_structure_reference\n"
     ]
    }
   ],
   "source": [
    "file_list = [\n",
    "    SETBACKS_PIPELINE_REFERENCE,\n",
    "    SETBACKS_STRUCTURE_115HH_170RD,\n",
    "    SETBACKS_STRUCTURE_REFERENCE,\n",
    "]\n",
    "\n",
    "print(f\"Adding {len(file_list)} file(s) to the h5...\")\n",
    "for fn in file_list:\n",
    "    print(fn.split(\".\")[0])\n",
    "\n",
    "h5.layers_to_h5(\n",
    "    layers=file_list,\n",
    "    replace=False\n",
    ")"
   ]
  },
  {
   "cell_type": "code",
   "execution_count": 14,
   "metadata": {},
   "outputs": [
    {
     "data": {
      "text/plain": [
       "['airport_heliport_setbacks',\n",
       " 'latitude',\n",
       " 'longitude',\n",
       " 'nexrad_green_los',\n",
       " 'setbacks_pipeline_reference',\n",
       " 'setbacks_structure_115hh_170rd',\n",
       " 'setbacks_structure_reference']"
      ]
     },
     "execution_count": 14,
     "metadata": {},
     "output_type": "execute_result"
    }
   ],
   "source": [
    "# Checking current layers in the h5\n",
    "h5.layers"
   ]
  },
  {
   "cell_type": "markdown",
   "metadata": {},
   "source": [
    "Layers in the h5 file can also be extracted as geotiffs. `.layer_to_geotiff()` for single layers, `.extract_layers()` for multiple layers.\n",
    "\n",
    "All the layers in the h5 can be extracted using `.extract_all_layers()` by passing an output directory as argument."
   ]
  },
  {
   "cell_type": "code",
   "execution_count": 15,
   "metadata": {},
   "outputs": [],
   "source": [
    "# extracting single layer\n",
    "layer = \"airport_heliport_setbacks\"\n",
    "outpath = \"airport_heliport_setbacks_h5_extract.tif\"\n",
    "h5.layer_to_geotiff(layer=layer,\n",
    "                    geotiff=outpath)\n",
    "\n",
    "\n",
    "# Extracting multiple layers\n",
    "layers = {\n",
    "    \"nexrad_green_los\": \"nexrad_green_los_h5_extract.tif\",\n",
    "    \"setbacks_pipeline_reference\": \"setbacks_pipeline_reference_h5_extract.tif\"\n",
    "}\n",
    "h5.extract_layers(layers)"
   ]
  },
  {
   "cell_type": "markdown",
   "metadata": {},
   "source": [
    "### Using the command line to add and extract layers from h5 files"
   ]
  },
  {
   "cell_type": "markdown",
   "metadata": {},
   "source": [
    "Alternatively, the command line can be used to add and extract layers from the h5 file\n",
    "\n",
    "**1. Adding tiffs to the h5** \n",
    "\n",
    "First, we need to construct a json config file that contains layer name mapping to geotiff filepaths\n",
    "This json configuration file can optionally contain layer descriptions\n"
   ]
  },
  {
   "cell_type": "markdown",
   "metadata": {},
   "source": [
    "`layers.json`\n",
    "```json\n",
    "{\n",
    "    \"layers\":\n",
    "        {\n",
    "            \"nexrad_green_los\": \"../data/nexrad_green_los.tif\",\n",
    "            \"ops_water\": \"../data/ops_water.tif\",\n",
    "            \"setbacks_transmission_reference\": \"../data/setbacks_transmission_reference.tif\"\n",
    "        }\n",
    "}\n",
    "```"
   ]
  },
  {
   "cell_type": "markdown",
   "metadata": {},
   "source": [
    "Then we run `$ reVX exclusions layers-to-h5  -h5 \"../data/example.h5\" --layers layers.json` on the command line."
   ]
  },
  {
   "cell_type": "markdown",
   "metadata": {},
   "source": [
    "**2. Extracting layers from h5**\n",
    "\n",
    "To extract layers from the h5 file, we pass the list of layers to extract as an argument and an output directory\n",
    "\n",
    "Example: `$ reVX exclusions layers-from-h5 -h5 \"../data/example.h5\" -l nexrad_green_los ops_water setbacks_transmission_reference -o \"./outputs\"`"
   ]
  }
 ],
 "metadata": {
  "kernelspec": {
   "display_name": "rev_env",
   "language": "python",
   "name": "python3"
  },
  "language_info": {
   "codemirror_mode": {
    "name": "ipython",
    "version": 3
   },
   "file_extension": ".py",
   "mimetype": "text/x-python",
   "name": "python",
   "nbconvert_exporter": "python",
   "pygments_lexer": "ipython3",
   "version": "3.11.6"
  }
 },
 "nbformat": 4,
 "nbformat_minor": 2
}
