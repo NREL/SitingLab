{
 "cells": [
  {
   "cell_type": "markdown",
   "metadata": {},
   "source": [
    "# Extracting a Composite Exclusion Layer\n",
    "\n",
    "**Prerequisites:**\n",
    "\n",
    "- Required: [GeoTIFFs to reV HDF5 Files](./02_layered_h5_tutorial.ipynb)\n",
    "- Recommended: [Working with GeoTIFFs](./01_geotiff_tutorial.ipynb)\n",
    "\n",
    "----"
   ]
  },
  {
   "cell_type": "markdown",
   "metadata": {},
   "source": [
    "## Introduction\n",
    "\n",
    "In some analysis, you might want to combine multiple layers into one composite layer to understand how much land is included or excluded based on some exclusion criteria. This is particularly useful if you have put together a `reV` supply curve aggregation configuration and would like to visualize the resulting composite exclusions.\n",
    "\n",
    "This tutorial will take you through the process of building out this criteria and using the criteria specifications to extract a boolean mask layer.\n",
    "\n",
    "Let's get started!"
   ]
  },
  {
   "cell_type": "markdown",
   "metadata": {
    "tags": [
     "remove-cell"
    ]
   },
   "source": [
    "Let's start with a few common imports:"
   ]
  },
  {
   "cell_type": "code",
   "execution_count": 1,
   "metadata": {
    "tags": [
     "remove-cell"
    ]
   },
   "outputs": [],
   "source": [
    "import numpy as np\n",
    "import plotly.express as px\n",
    "\n",
    "from reVX.handlers.layered_h5 import LayeredH5\n",
    "from reVX.handlers.geotiff import Geotiff\n",
    "from reV.handlers.exclusions import ExclusionLayers\n",
    "from reV.supply_curve.exclusions import ExclusionMaskFromDict"
   ]
  },
  {
   "cell_type": "markdown",
   "metadata": {},
   "source": [
    "## Creating the Composite Mask\n",
    "\n",
    "First let's add path definitions and take a look at the layers in the layered HDF5 file:"
   ]
  },
  {
   "cell_type": "code",
   "execution_count": null,
   "metadata": {},
   "outputs": [],
   "source": [
    "H5_PATH = \"example.h5\"  # Built in prerequisite notebook\n",
    "h5 = LayeredH5(H5_PATH)\n",
    "h5.layers"
   ]
  },
  {
   "cell_type": "markdown",
   "metadata": {},
   "source": [
    "If your file does not contain these layers or you get a `FileNotFoundError`, make sure you first go through the [GeoTIFFs to reV HDF5 Files](./02_layered_h5_tutorial.ipynb) tutorial!"
   ]
  },
  {
   "cell_type": "markdown",
   "metadata": {},
   "source": [
    "### Exclusion Dictionary\n",
    "To extract a mask layer, we need to define a set of criteria for excluding land. This implemented via `exclusion dictionaries`. An exclusion dictionary maps layer names to instructions on _how_ that layer should be excluded. The latter is specified via another dictionary containing keywords such as `exclude_values`, `exclude_range`, `include_values`, `include_range` etc. can be specified in the exclusion dictionary to exclude/include specific values and/or range of values. More documentation on these keywords can be found [here](https://nrel.github.io/reV/_autosummary/reV.supply_curve.exclusions.LayerMask.html).\n",
    "\n",
    "Let's create our first exclusion dictionary! We'll start with an empty Python dictionary and build it out in steps:"
   ]
  },
  {
   "cell_type": "code",
   "execution_count": 3,
   "metadata": {},
   "outputs": [],
   "source": [
    "excl_dict = {}"
   ]
  },
  {
   "cell_type": "markdown",
   "metadata": {},
   "source": [
    "Suppose we now want to exclude all pixels with a value of `1` in our pipeline setback exclusion layer. To do so, we add the following specification to the `excl_dict` using the layer name as the key:"
   ]
  },
  {
   "cell_type": "code",
   "execution_count": 4,
   "metadata": {},
   "outputs": [],
   "source": [
    "excl_dict[\"setbacks_pipeline_reference\"] = {\"exclude_values\": 1}"
   ]
  },
  {
   "cell_type": "markdown",
   "metadata": {},
   "source": [
    "In this case, we only want to exclude `setbacks_pipeline_reference` layer values of `1`. However, the exclusion dictionary format is flexible enough to exclude other values from our layer, including specifying multiple exclusion values at once:"
   ]
  },
  {
   "cell_type": "code",
   "execution_count": 5,
   "metadata": {},
   "outputs": [],
   "source": [
    "excl_dict[\"setbacks_pipeline_reference\"] = {\"exclude_values\": [1, 2, 3]}"
   ]
  },
  {
   "cell_type": "markdown",
   "metadata": {},
   "source": [
    "In practice, the two specifications above are identical since our `setbacks_pipeline_reference` layer contains only binary data. If, instead, our layer contained a range of values, we would have precise control over which pixels are ultimately excluded in our composite layer. \n",
    "\n",
    "If our layer contains a large range of values, we do not have to type them in one-by-one. Instead, we can use the `exclude_range` specification instead:"
   ]
  },
  {
   "cell_type": "code",
   "execution_count": 6,
   "metadata": {},
   "outputs": [],
   "source": [
    "excl_dict[\"setbacks_structure_115hh_170rd\"] = {\"exclude_range\": [1, 3]}"
   ]
  },
  {
   "cell_type": "markdown",
   "metadata": {},
   "source": [
    "\n",
    "\n",
    "In this example, we would exclude all pixels that contain the values 1, 2, and 3. \n",
    "\n",
    "We won't cover all possible keyword specification in this tutorial - please refer to [the documentation](https://nrel.github.io/reV/_autosummary/reV.supply_curve.exclusions.LayerMask.html) for a list of all possible inputs.\n",
    "\n",
    "Let's add a one more layer to our exclusion dictionary:"
   ]
  },
  {
   "cell_type": "code",
   "execution_count": 7,
   "metadata": {},
   "outputs": [],
   "source": [
    "excl_dict.update(\n",
    "    {\"airport_heliport_setbacks\": {\"exclude_values\": 1}}\n",
    ")"
   ]
  },
  {
   "cell_type": "markdown",
   "metadata": {},
   "source": [
    "Our final exclusion dictionary now looks like:"
   ]
  },
  {
   "cell_type": "code",
   "execution_count": null,
   "metadata": {
    "tags": [
     "remove-input"
    ]
   },
   "outputs": [],
   "source": [
    "excl_dict"
   ]
  },
  {
   "cell_type": "markdown",
   "metadata": {},
   "source": [
    "We could of course create this dictionary in one go instead of building it in pieces."
   ]
  },
  {
   "cell_type": "markdown",
   "metadata": {},
   "source": [
    "### Computing the composite exclusions\n",
    "\n",
    "Once the exclusion dictionary has been put together, we simply call the following method to create the composite exclusion mask:"
   ]
  },
  {
   "cell_type": "code",
   "execution_count": 9,
   "metadata": {},
   "outputs": [],
   "source": [
    "mask_ = ExclusionMaskFromDict.run(str(H5_PATH), layers_dict=excl_dict)"
   ]
  },
  {
   "cell_type": "markdown",
   "metadata": {},
   "source": [
    "<div class=\"alert alert-block alert-warning\">\n",
    "<b>WARNING:</b> The output of this method is actually an inclusion mask, where a value of 0 represents a fully excluded pixel and a value of 1 represents a fully included pixel.</div>\n",
    "\n",
    "The run method also has `min_area` and `kernel` arguments you can use to specify the minimum contiguous area and contiguous filter method. For more information on these inputs, see the [reV documentation](https://nrel.github.io/reV/_cli/reV%20supply-curve-aggregation.html#:~:text=default%2C%20None.-,area_filter_kernel,-%7B%E2%80%9Cqueen%E2%80%9D%2C%20%E2%80%9Crook%E2%80%9D%7D%2C%20optional).\n",
    "\n",
    "<div class=\"alert alert-block alert-info\">\n",
    "<b>Note:</b> The argument names differ slightly in the linked documentation but have identical function.</div>\n",
    "\n",
    "To write out the composite exclusion mask layer to a file, we can use the `Geotiff` handler (we write `1 - mask_` to convert the data to an exclusion layer):"
   ]
  },
  {
   "cell_type": "code",
   "execution_count": 10,
   "metadata": {},
   "outputs": [],
   "source": [
    "Geotiff.write(\"composite_exclusion_mask.tif\", h5.profile, 1 - mask_)"
   ]
  },
  {
   "cell_type": "markdown",
   "metadata": {},
   "source": [
    "We can plot the data to verify that the exclusion mask was computed correctly:"
   ]
  },
  {
   "cell_type": "code",
   "execution_count": null,
   "metadata": {
    "tags": [
     "hide-input"
    ]
   },
   "outputs": [],
   "source": [
    "def title_replace(a):\n",
    "    a.update(\n",
    "        text=(\n",
    "            a.text\n",
    "            .replace(\"facet_col=0\", \"Pipeline Setbacks\")\n",
    "            .replace(\"facet_col=1\", \"Structure Setbacks\")\n",
    "            .replace(\"facet_col=2\", \"Airport/Heliport Setbacks\")\n",
    "            .replace(\"facet_col=3\", \"Composite Exclusions\")\n",
    "        )\n",
    "    )\n",
    "\n",
    "\n",
    "all_layers = []\n",
    "with ExclusionLayers(H5_PATH) as excl:\n",
    "    for layer_name in excl_dict:\n",
    "        data = excl[layer_name]\n",
    "        if \"airport\" in layer_name:\n",
    "            data[data != 1] = 0\n",
    "        all_layers.append(data)\n",
    "\n",
    "with Geotiff(\"composite_exclusion_mask.tif\") as geo:\n",
    "    all_layers.append(geo.values[0])\n",
    "\n",
    "\n",
    "fig = px.imshow(\n",
    "    np.r_[all_layers],\n",
    "    facet_col=0,\n",
    "    facet_col_wrap=2,\n",
    "    height=750,\n",
    "    width=750,\n",
    "    color_continuous_scale=\"BuPu\",\n",
    ")\n",
    "fig.update_layout(font={\"size\": 16})\n",
    "fig.update_xaxes(visible=False)\n",
    "fig.update_yaxes(visible=False)\n",
    "fig.for_each_annotation(title_replace)\n",
    "fig.show()"
   ]
  },
  {
   "cell_type": "markdown",
   "metadata": {},
   "source": [
    "## Composite Exclusion Layer via CLI\n",
    "\n",
    "Alternatively, the command line can be used to create the composite exclusion layer. This approach is particularly useful if you already have a `reV` supply curve aggregation config file on hand."
   ]
  },
  {
   "cell_type": "markdown",
   "metadata": {},
   "source": [
    "First, we need to construct a JSON config file (e.g. `excl_dict.json`) that contains the exclusion dictionary:\n",
    "\n",
    "```json\n",
    "{\n",
    "    \"excl_dict\" : {\n",
    "        \"setbacks_pipeline_reference\": {\"exclude_values\": [1, 2, 3]},\n",
    "        \"setbacks_structure_115hh_170rd\": {\"exclude_range\": [1, 3]},\n",
    "        \"airport_heliport_setbacks\": {\"exclude_values\": 1}\n",
    "    }\n",
    "}\n",
    "```\n",
    "\n",
    "Then we can run the following command: \n",
    "\n",
    "```bash\n",
    "$ reVX exclusions -h5 example.h5 mask --excl_dict_fpath excl_dict.json -o composite_exclusions.tif\n",
    "```\n",
    "\n",
    "This command also has `--min_area` and `--kernel` options. "
   ]
  },
  {
   "cell_type": "markdown",
   "metadata": {},
   "source": [
    "## Conclusion\n",
    "In this tutorial, we have walked through the basic steps required to combine multiple exclusion layers into one composite exclusion layer. You should now be able to:\n",
    "- Create an exclusion dictionary\n",
    "- Create a corresponding composite exclusion layer \n",
    "- Write the exclusion layer to a file\n",
    "- Perform all of the above tasks from the command line \n"
   ]
  }
 ],
 "metadata": {
  "kernelspec": {
   "display_name": "rev_env",
   "language": "python",
   "name": "python3"
  },
  "language_info": {
   "codemirror_mode": {
    "name": "ipython",
    "version": 3
   },
   "file_extension": ".py",
   "mimetype": "text/x-python",
   "name": "python",
   "nbconvert_exporter": "python",
   "pygments_lexer": "ipython3",
   "version": "3.11.10"
  }
 },
 "nbformat": 4,
 "nbformat_minor": 2
}
