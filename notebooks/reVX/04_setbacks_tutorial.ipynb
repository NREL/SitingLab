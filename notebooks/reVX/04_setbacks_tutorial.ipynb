{
 "cells": [
  {
   "cell_type": "markdown",
   "metadata": {},
   "source": [
    "# Computing Setbacks Exclusions\n",
    "\n",
    "**Prerequisites:**\n",
    "\n",
    "- Required: [GeoTIFFs to reV HDF5 Files](./02_layered_h5_tutorial.ipynb)\n",
    "- Recommended: [Working with GeoTIFFs](./01_geotiff_tutorial.ipynb)\n",
    "\n",
    "----"
   ]
  },
  {
   "cell_type": "markdown",
   "metadata": {},
   "source": [
    "## Introduction\n",
    "\n",
    "In the context of renewable energy siting, setbacks represent the minimum distance a generator can be located from a particular feature. In `reV`, we model setbacks as exclusion layers computed for each feature type (i.e. setbacks from rail, roads, transmission, structures, etc).\n",
    "\n",
    "This tutorial will demonstrate how to calculate these setbacks from one of these features (railroads) using the [`reVX` setbacks utility](https://nrel.github.io/reVX/misc/examples.setbacks.html), especially in the context of HDF5 file inputs for [reV](https://github.com/NREL/reV) modeling.\n",
    "\n",
    "Let's get started! "
   ]
  },
  {
   "cell_type": "markdown",
   "metadata": {
    "tags": [
     "remove-cell"
    ]
   },
   "source": [
    "Let's start with a few common imports:"
   ]
  },
  {
   "cell_type": "code",
   "execution_count": 1,
   "metadata": {},
   "outputs": [],
   "source": [
    "import numpy as np\n",
    "import pandas as pd\n",
    "import geopandas as gpd\n",
    "import plotly.express as px\n",
    "\n",
    "from reVX.handlers.layered_h5 import LayeredH5\n",
    "from reVX.handlers.geotiff import Geotiff\n",
    "from reVX.setbacks import SETBACKS\n",
    "from reVX.setbacks.regulations import (\n",
    "    SetbackRegulations, WindSetbackRegulations\n",
    ")"
   ]
  },
  {
   "cell_type": "markdown",
   "metadata": {},
   "source": [
    "## Downloading the data\n",
    "\n",
    "For this tutorial, the only extra data we will need is the GeoPackage of existing railroads. We will \"download\" this file using `geopandas`. \n",
    "\n",
    "We'll start by defining the local file path destinations:"
   ]
  },
  {
   "cell_type": "code",
   "execution_count": 2,
   "metadata": {},
   "outputs": [],
   "source": [
    "# Define paths to data and h5 file\n",
    "H5_PATH = \"example.h5\"  # Built in prerequisite notebook\n",
    "FEATURE_URL = \"https://www2.census.gov/geo/tiger/TIGER2023/RAILS/tl_2023_us_rails.zip\"\n",
    "FEATURES_FPATH = \"hsip_2012_rail.gpkg\"\n",
    "REGULATION_FPATH = \"demo_regulations.csv\""
   ]
  },
  {
   "cell_type": "markdown",
   "metadata": {},
   "source": [
    "Now we can use `geopandas` to read the file URL directly and then save it locally as a GeoPackage:"
   ]
  },
  {
   "cell_type": "code",
   "execution_count": 3,
   "metadata": {},
   "outputs": [],
   "source": [
    "gdf = gpd.read_file(FEATURE_URL)\n",
    "gdf.to_file(FEATURES_FPATH, driver=\"GPKG\", index=False)"
   ]
  },
  {
   "cell_type": "markdown",
   "metadata": {},
   "source": [
    "## Computing Setbacks\n",
    "\n",
    "To compute setbacks from a particular feature, we first have to select the correct setback computation class. To do thins, we can select from one of the following:"
   ]
  },
  {
   "cell_type": "code",
   "execution_count": null,
   "metadata": {},
   "outputs": [],
   "source": [
    "list(SETBACKS)"
   ]
  },
  {
   "cell_type": "markdown",
   "metadata": {},
   "source": [
    "In this tutorial, we will focus on railroad setbacks, so we will select our setback calculator class to be `\"rail\"`:"
   ]
  },
  {
   "cell_type": "code",
   "execution_count": 5,
   "metadata": {},
   "outputs": [],
   "source": [
    "setback_calculator = SETBACKS[\"rail\"]"
   ]
  },
  {
   "cell_type": "markdown",
   "metadata": {},
   "source": [
    "The main method we will be using is `run()`. To get more details on the inputs required for this method, we can run"
   ]
  },
  {
   "cell_type": "code",
   "execution_count": null,
   "metadata": {},
   "outputs": [],
   "source": [
    "help(setback_calculator.run)"
   ]
  },
  {
   "cell_type": "markdown",
   "metadata": {},
   "source": [
    "There are several approaches we can use to compute setback exclusions from railroads. \n",
    "We will explore the following in this tutorial:\n",
    "\n",
    "1) Fixed-distance setbacks\n",
    "2) Turbine tip-height setbacks\n",
    "3) Multiplier setbacks\n",
    "4) Partial setbacks\n",
    "5) Local county ordinance setbacks\n",
    "\n",
    "### Fixed-distance Setbacks\n",
    "\n",
    "Fixed-distance setbacks are the most straightforward type of setbacks to compute. For this approach, we will just select a minimum length (in m) that a generator has to be placed away from the feature (i.e. railroad in our case). Let's suppose we was to compute two different fixed setback values: 100 meters and 1,000 meters. For each setback value, we have to create a `SetbackRegulation` instance, and then use it to compute the setbacks, like so:"
   ]
  },
  {
   "cell_type": "code",
   "execution_count": 7,
   "metadata": {
    "tags": [
     "remove-output"
    ]
   },
   "outputs": [],
   "source": [
    "for setback_distance in [100, 1000]:\n",
    "    regulations = SetbackRegulations(\n",
    "        base_setback_dist=setback_distance, multiplier=1\n",
    "    )\n",
    "    out_fn = f\"setbacks_rail_{setback_distance}m.tif\"\n",
    "    setback_calculator.run(\n",
    "        excl_fpath=H5_PATH,\n",
    "        features_path=FEATURES_FPATH,\n",
    "        out_fn=out_fn,\n",
    "        regulations=regulations,\n",
    "    )"
   ]
  },
  {
   "cell_type": "markdown",
   "metadata": {},
   "source": [
    "<div class=\"alert alert-block alert-info\">\n",
    "<b>Note:</b> The <code class=\"python\">SetbackRegulation</code> class requires a multiplier as input. We will go over the use cases of this input below, but you can always set it to `1` to compute a static setback distance.\n",
    "</div>\n",
    "\n",
    "We can verify that the setbacks were computed properly by plotting the results:"
   ]
  },
  {
   "cell_type": "code",
   "execution_count": null,
   "metadata": {
    "tags": [
     "hide-input"
    ]
   },
   "outputs": [],
   "source": [
    "def title_replace(a):\n",
    "    a.update(\n",
    "        text=(\n",
    "            a.text\n",
    "            .replace(\"facet_col=0\", \"100m Railroad Setbacks\")\n",
    "            .replace(\"facet_col=1\", \"1000m Railroad Setbacks\")\n",
    "        )\n",
    "    )\n",
    "\n",
    "\n",
    "all_layers = []\n",
    "for setback_distance in [100, 1000]:\n",
    "    with Geotiff(f\"setbacks_rail_{setback_distance}m.tif\") as geo:\n",
    "        all_layers.append(geo.values[0])\n",
    "\n",
    "fig = px.imshow(\n",
    "    np.r_[all_layers],\n",
    "    facet_col=0,\n",
    "    facet_col_wrap=2,\n",
    "    height=350,\n",
    "    width=700,\n",
    "    color_continuous_scale=\"BuPu\",\n",
    ")\n",
    "fig.update_layout(font={\"size\": 16})\n",
    "fig.update_xaxes(visible=False)\n",
    "fig.update_yaxes(visible=False)\n",
    "fig.for_each_annotation(title_replace)\n",
    "fig.show()"
   ]
  },
  {
   "cell_type": "markdown",
   "metadata": {},
   "source": [
    "### Turbine tip-height setbacks\n",
    "\n",
    "If you are computing setbacks for wind turbine generators, you can specify the regulations using the `WindSetbackRegulations` class. \n",
    "This class records the turbine hub height and rotor diameter and computes the base setback distance to be the turbine tip height. It can also help compute local ordinance setback distances, which often mix the three turbine dimensions (hub height, rotor diameter, and max tip height) in their regulation text."
   ]
  },
  {
   "cell_type": "code",
   "execution_count": null,
   "metadata": {},
   "outputs": [],
   "source": [
    "hh, rd = 115, 50\n",
    "regulations = WindSetbackRegulations(\n",
    "    hub_height=hh,\n",
    "    rotor_diameter=rd,\n",
    "    multiplier=1,\n",
    ")\n",
    "# Base setback distance should be HH (115) + RD/2 (25) = 140\n",
    "regulations.base_setback_dist"
   ]
  },
  {
   "cell_type": "code",
   "execution_count": null,
   "metadata": {
    "tags": [
     "remove-output"
    ]
   },
   "outputs": [],
   "source": [
    "out_fn = f\"setbacks_rail_{hh}hh_{rd}rd.tif\"\n",
    "setback_calculator.run(\n",
    "    excl_fpath=H5_PATH,\n",
    "    features_path=FEATURES_FPATH,\n",
    "    out_fn=out_fn,\n",
    "    regulations=regulations,\n",
    ")"
   ]
  },
  {
   "cell_type": "markdown",
   "metadata": {},
   "source": [
    "### Multiplier setbacks\n",
    "\n",
    "Local ordinances often give the setback value as a multiplier applied to a dimension, such as the height of the generator. For this reason, the regulation classes in `reVX` have a multiplier input to easily match the ordinance specification. For example, suppose you need to compute a 1.7 max tip height setback for the turbine defined in a previous section:"
   ]
  },
  {
   "cell_type": "code",
   "execution_count": null,
   "metadata": {
    "tags": [
     "remove-output"
    ]
   },
   "outputs": [],
   "source": [
    "regulations = WindSetbackRegulations(\n",
    "    hub_height=hh,\n",
    "    rotor_diameter=rd,\n",
    "    multiplier=1.7,\n",
    ")\n",
    "out_fn = f\"setbacks_rail_{hh}hh_{rd}rd_1.7.tif\"\n",
    "setback_calculator.run(\n",
    "    excl_fpath=H5_PATH,\n",
    "    features_path=FEATURES_FPATH,\n",
    "    out_fn=out_fn,\n",
    "    regulations=regulations,\n",
    ")"
   ]
  },
  {
   "cell_type": "markdown",
   "metadata": {},
   "source": [
    "We can check that this indeed computed a larger setback than before:"
   ]
  },
  {
   "cell_type": "code",
   "execution_count": null,
   "metadata": {
    "tags": [
     "hide-input"
    ]
   },
   "outputs": [],
   "source": [
    "def title_replace(a):\n",
    "    a.update(\n",
    "        text=(\n",
    "            a.text\n",
    "            .replace(\"facet_col=0\", \"1x Tip Height Setbacks\")\n",
    "            .replace(\"facet_col=1\", \"1.7x Tip Height Setbacks\")\n",
    "        )\n",
    "    )\n",
    "\n",
    "\n",
    "all_layers = []\n",
    "with Geotiff(f\"setbacks_rail_{hh}hh_{rd}rd.tif\") as geo:\n",
    "    all_layers.append(geo.values[0])\n",
    "with Geotiff(f\"setbacks_rail_{hh}hh_{rd}rd_1.7.tif\") as geo:\n",
    "    all_layers.append(geo.values[0])\n",
    "\n",
    "fig = px.imshow(\n",
    "    np.r_[all_layers],\n",
    "    facet_col=0,\n",
    "    facet_col_wrap=2,\n",
    "    height=350,\n",
    "    width=700,\n",
    "    color_continuous_scale=\"BuPu\",\n",
    ")\n",
    "fig.update_layout(font={\"size\": 16})\n",
    "fig.update_xaxes(visible=False)\n",
    "fig.update_yaxes(visible=False)\n",
    "fig.for_each_annotation(title_replace)\n",
    "fig.show()"
   ]
  },
  {
   "cell_type": "markdown",
   "metadata": {},
   "source": [
    "### Partial setbacks\n",
    "\n",
    "In some cases, the setback distance we want to compute is smaller than the resolution of the underlying raster. If we computed boolean exclusions (i.e. pixel = 1 for excluded and 0 for included), we would overestimate the amount of land excluded due to this setback. Instead, what we can do is compute a _partial inclusion_ raster, where values represent the fraction of the pixel that is *included* (i.e. 0 = fully excluded, 1 = fully included, 0.5 = half excluded, half included, etc.). To do this, we can specify a `weights_calculation_upscale_factor` in the input to the `run` function. This value should be an integer that will ultimately determine how fine the fractional output values are. Note that setting this value too large may cause your program to run out of memory. A good run of thumb is to set it to some value <= 10."
   ]
  },
  {
   "cell_type": "code",
   "execution_count": null,
   "metadata": {
    "tags": [
     "remove-output"
    ]
   },
   "outputs": [],
   "source": [
    "setback_distance = 30  # this is 1/3 of the side length of out 90m cells\n",
    "regulations = SetbackRegulations(\n",
    "    base_setback_dist=setback_distance, multiplier=1\n",
    ")\n",
    "out_fn = f\"setbacks_rail_{setback_distance}m.tif\"\n",
    "setback_calculator.run(\n",
    "    excl_fpath=H5_PATH,\n",
    "    features_path=FEATURES_FPATH,\n",
    "    out_fn=out_fn,\n",
    "    regulations=regulations,\n",
    "    weights_calculation_upscale_factor=5,\n",
    ")"
   ]
  },
  {
   "cell_type": "markdown",
   "metadata": {},
   "source": [
    "We can check the output values like so:"
   ]
  },
  {
   "cell_type": "code",
   "execution_count": null,
   "metadata": {
    "tags": [
     "hide-input"
    ]
   },
   "outputs": [],
   "source": [
    "with Geotiff(\"setbacks_rail_30m.tif\") as geo:\n",
    "    data = geo.values[0]\n",
    "\n",
    "unique_vals = \", \".join([f\"{v:.2f}\" for v in sorted(np.unique(data))])\n",
    "\n",
    "print(f\"Unique inclusion values:\\n{unique_vals}\")\n",
    "\n",
    "fig = px.imshow(\n",
    "    data,\n",
    "    height=700,\n",
    "    width=700,\n",
    "    color_continuous_scale=\"BuPu\",\n",
    "    title=\"30m Railroad Setbacks\"\n",
    ")\n",
    "fig.update_layout(font={\"size\": 16})\n",
    "fig.update_xaxes(visible=False)\n",
    "fig.update_yaxes(visible=False)\n",
    "fig.show()"
   ]
  },
  {
   "cell_type": "markdown",
   "metadata": {},
   "source": [
    "### Local county ordinance setbacks\n",
    "\n",
    "So far we have only explored computing setbacks everywhere. However, sometimes it is valuable to be able to compute setbacks based on local county ordinances. For this, we need two extra pieces of information: 1) The local county ordinance setback values formatted into a compatible CSV file and 2) a `FIPS` layer that maps region s in our base raster to county FIPS values. \n",
    "\n",
    "For the purposes of this demonstration, we will create our own fictional FIPS layer. In practice, you could create the FIPS layer by rasterizing a FIPS vector file onto your region.\n",
    "\n",
    "Let's start by breaking our region into four quadrants, and setting our demo FIPS values to be 1-4 in those quadrants:"
   ]
  },
  {
   "cell_type": "code",
   "execution_count": null,
   "metadata": {},
   "outputs": [],
   "source": [
    "h5 = LayeredH5(H5_PATH)\n",
    "fips_layer = np.ones(h5.shape)\n",
    "width, height = fips_layer.shape\n",
    "fips_layer[:, height // 2:] += 1\n",
    "fips_layer[width // 2:] += 2\n",
    "fips_layer"
   ]
  },
  {
   "cell_type": "markdown",
   "metadata": {},
   "source": [
    "Great! Now we have to write this data to our HDF5 file. The layer _must_ go in under the name `cnty_fips`:"
   ]
  },
  {
   "cell_type": "code",
   "execution_count": null,
   "metadata": {},
   "outputs": [],
   "source": [
    "h5.write_layer_to_h5(\n",
    "    values=fips_layer, layer_name=\"cnty_fips\", profile=h5.profile\n",
    ")\n",
    "h5.layers"
   ]
  },
  {
   "cell_type": "markdown",
   "metadata": {},
   "source": [
    "The other extra piece of information we will need is a CSV file containing the local regulations. We will create a sample regulation file for the purposes of this example:"
   ]
  },
  {
   "cell_type": "code",
   "execution_count": 20,
   "metadata": {},
   "outputs": [],
   "source": [
    "reg_1 = {\n",
    "    \"Feature Type\": \"railroads\",\n",
    "    \"Feature Subtype\": None,\n",
    "    \"Value Type\": \"Hub-height Multiplier\",\n",
    "    \"Value\": 3,\n",
    "    \"FIPS\": 1\n",
    "}\n",
    "reg_2 = {\n",
    "    \"Feature Type\": \"railroads\",\n",
    "    \"Feature Subtype\": None,\n",
    "    \"Value Type\": \"Max-tip Height Multiplier\",\n",
    "    \"Value\": 7,\n",
    "    \"FIPS\": 2\n",
    "}\n",
    "reg_3 = {\n",
    "    \"Feature Type\": \"railroads\",\n",
    "    \"Feature Subtype\": None,\n",
    "    \"Value Type\": \"Meters\",\n",
    "    \"Value\": 2000,\n",
    "    \"FIPS\": 3\n",
    "}\n",
    "pd.DataFrame([reg_1, reg_2, reg_3]).to_csv(REGULATION_FPATH, index=False)"
   ]
  },
  {
   "cell_type": "markdown",
   "metadata": {},
   "source": [
    "Now we can compute the setback values like before, with one extra input:"
   ]
  },
  {
   "cell_type": "code",
   "execution_count": null,
   "metadata": {
    "tags": [
     "remove-output"
    ]
   },
   "outputs": [],
   "source": [
    "regulations = WindSetbackRegulations(\n",
    "    hub_height=hh,\n",
    "    rotor_diameter=rd,\n",
    "    regulations_fpath=REGULATION_FPATH\n",
    ")\n",
    "out_fn = f\"setbacks_rail_{hh}hh_{rd}rd_regulations.tif\"\n",
    "setback_calculator.run(\n",
    "    excl_fpath=H5_PATH,\n",
    "    features_path=FEATURES_FPATH,\n",
    "    out_fn=out_fn,\n",
    "    regulations=regulations,\n",
    ")"
   ]
  },
  {
   "cell_type": "markdown",
   "metadata": {},
   "source": [
    "We can plot the result to verify that the local setbacks have indeed been applied:"
   ]
  },
  {
   "cell_type": "code",
   "execution_count": null,
   "metadata": {
    "tags": [
     "hide-input"
    ]
   },
   "outputs": [],
   "source": [
    "with Geotiff(out_fn) as geo:\n",
    "    data = geo.values[0]\n",
    "\n",
    "fig = px.imshow(\n",
    "    data,\n",
    "    height=700,\n",
    "    width=700,\n",
    "    color_continuous_scale=\"BuPu\",\n",
    "    title=\"Local County Railroad Setbacks\"\n",
    ")\n",
    "fig.update_layout(font={\"size\": 16})\n",
    "fig.update_xaxes(visible=False)\n",
    "fig.update_yaxes(visible=False)\n",
    "fig.show()"
   ]
  },
  {
   "cell_type": "markdown",
   "metadata": {},
   "source": [
    "## Computing Setbacks via CLI\n",
    "\n",
    "Alternatively, the command line can be used to compute setbacks for one or more features.\n",
    "\n",
    "First, we need to construct a JSON config file (e.g. `setback.json`) that contains the parameters we discussed above:\n",
    "\n",
    "```json\n",
    "{\n",
    "    \"excl_fpath\": \"example.h5\",\n",
    "    \"regulations_fpath\": \"demo_regulations.csv\",\n",
    "    \"hub_height\": 115,\n",
    "    \"rotor_diameter\": 50,\n",
    "    \"features\": {\n",
    "        \"rail\": \"hsip_2012_rail.gpkg\"\n",
    "    }\n",
    "}\n",
    "```\n",
    "\n",
    "Then we can run the following command: \n",
    "\n",
    "```bash\n",
    "$ setbacks compute --config_file setback.json\n",
    "```\n",
    "\n",
    "A more detailed guide to computing setbacks from the command line can be found [here](https://nrel.github.io/reVX/misc/examples.setbacks.html)."
   ]
  },
  {
   "cell_type": "markdown",
   "metadata": {},
   "source": [
    "## Conclusion\n",
    "In this tutorial, we have walked through the basic steps of computing setback exclusions. You should now be able to compute:\n",
    "- Fixed-distance setbacks\n",
    "- Turbine tip-height setbacks\n",
    "- Multiplier setbacks\n",
    "- Partial setbacks\n",
    "- Local county ordinance setbacks"
   ]
  }
 ],
 "metadata": {
  "kernelspec": {
   "display_name": "rev_env",
   "language": "python",
   "name": "python3"
  },
  "language_info": {
   "codemirror_mode": {
    "name": "ipython",
    "version": 3
   },
   "file_extension": ".py",
   "mimetype": "text/x-python",
   "name": "python",
   "nbconvert_exporter": "python",
   "pygments_lexer": "ipython3",
   "version": "3.11.10"
  }
 },
 "nbformat": 4,
 "nbformat_minor": 2
}
