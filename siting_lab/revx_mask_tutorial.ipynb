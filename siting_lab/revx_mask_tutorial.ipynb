{
 "cells": [
  {
   "cell_type": "markdown",
   "metadata": {},
   "source": [
    "# Extracting a mask layer from a LayeredH5"
   ]
  },
  {
   "cell_type": "markdown",
   "metadata": {},
   "source": [
    "In some analysis, you might want to combine multiple layers into one composite layer to understand how much land is included or excluded based on some exclusion criteria\n",
    "\n",
    "This tutorial will take you through the process of building out this criteria and using the criteria specifications to extract a boolean mask layer."
   ]
  },
  {
   "cell_type": "markdown",
   "metadata": {},
   "source": [
    "### Python Implementation"
   ]
  },
  {
   "cell_type": "code",
   "execution_count": 1,
   "metadata": {},
   "outputs": [],
   "source": [
    "#Importing libraries\n",
    "from pathlib import Path\n",
    "\n",
    "from reVX.handlers.layered_h5 import LayeredH5\n",
    "from reVX.handlers.geotiff import Geotiff\n",
    "from reV.supply_curve.exclusions import ExclusionMaskFromDict"
   ]
  },
  {
   "cell_type": "markdown",
   "metadata": {},
   "source": [
    "First let's add path definitions"
   ]
  },
  {
   "cell_type": "code",
   "execution_count": 2,
   "metadata": {},
   "outputs": [],
   "source": [
    "#Define paths to data and h5 file\n",
    "DATA = Path(\"../data\")\n",
    "H5_PATH = DATA.joinpath(\"example.h5\")"
   ]
  },
  {
   "cell_type": "markdown",
   "metadata": {},
   "source": [
    "Let's take a look at the layers in the h5 file"
   ]
  },
  {
   "cell_type": "code",
   "execution_count": 3,
   "metadata": {},
   "outputs": [
    {
     "data": {
      "text/plain": [
       "['airport_heliport_setbacks',\n",
       " 'latitude',\n",
       " 'longitude',\n",
       " 'nexrad_green_los',\n",
       " 'setbacks_pipeline_reference',\n",
       " 'setbacks_structure_115hh_170rd',\n",
       " 'setbacks_structure_reference']"
      ]
     },
     "execution_count": 3,
     "metadata": {},
     "output_type": "execute_result"
    }
   ],
   "source": [
    "h5 = LayeredH5(H5_PATH)\n",
    "h5.layers"
   ]
  },
  {
   "cell_type": "markdown",
   "metadata": {},
   "source": [
    "To extract a mask layer, we need to define a set of criteria for excluding land.\n",
    "\n",
    "This implemented via `exclusion dictionaries`.\n",
    "\n",
    "Keywords such as `exclude_values`, `exclude_range`, `include_values`, `include_range` etc can be specified in the exclusion dictionary to exclude/include specific values and/or range of values\n",
    "\n",
    "More documentation on these keywords can be found [here](https://nrel.github.io/reV/_autosummary/reV.supply_curve.exclusions.LayerMask.html)"
   ]
  },
  {
   "cell_type": "markdown",
   "metadata": {},
   "source": [
    "Let's create our first exclusion dictionary!\n",
    "\n",
    "An exclusion dictionary is a dictionary of layer and keyword specification.\n",
    "\n",
    "In this example, we want to exclude areas that are occupied by our layers. \n",
    "\n",
    "*`exclude_range` is not neccessary in this example but used for demonstration purposes"
   ]
  },
  {
   "cell_type": "code",
   "execution_count": 5,
   "metadata": {},
   "outputs": [],
   "source": [
    "#Construct exclusion dictionary\n",
    "excl_dict = {\n",
    "    \"nexrad_green_los\": {\n",
    "        \"exclude_values\": 1\n",
    "    },\n",
    "    \"airport_heliport_setbacks\": {\n",
    "        \"exclude_values\": 1\n",
    "    },\n",
    "    \"setbacks_pipeline_reference\": {\n",
    "        \"exclude_values\": 1\n",
    "    },\n",
    "    \"setbacks_structure_115hh_170rd\": {\n",
    "        \"exclude_range\": [\n",
    "            0,\n",
    "            1\n",
    "        ]\n",
    "    },\n",
    "    \"setbacks_structure_reference\": {\n",
    "        \"exclude_range\": [\n",
    "            0,\n",
    "            1\n",
    "        ]\n",
    "    }\n",
    "}"
   ]
  },
  {
   "cell_type": "markdown",
   "metadata": {},
   "source": [
    "Compute the mask"
   ]
  },
  {
   "cell_type": "code",
   "execution_count": 7,
   "metadata": {},
   "outputs": [],
   "source": [
    "#Compute mask\n",
    "mask_ = ExclusionMaskFromDict.run(str(H5_PATH), layers_dict=excl_dict)"
   ]
  },
  {
   "cell_type": "markdown",
   "metadata": {},
   "source": [
    "The run method also has min_area and kernel arguments use to specify minimum contiguous area and contiguous filter method"
   ]
  },
  {
   "cell_type": "markdown",
   "metadata": {},
   "source": [
    "To write out the mask layer to a file, we use the `Geotiff` handler."
   ]
  },
  {
   "cell_type": "code",
   "execution_count": 8,
   "metadata": {},
   "outputs": [],
   "source": [
    "#specify output path\n",
    "save_path = DATA.joinpath(\"composite_mask.tif\")\n",
    "\n",
    "#extract profile info from h5\n",
    "profile = h5.profile\n",
    "\n",
    "#write mask to file\n",
    "Geotiff.write(save_path, profile, mask_)"
   ]
  },
  {
   "cell_type": "markdown",
   "metadata": {},
   "source": [
    "### Command line implementation"
   ]
  },
  {
   "cell_type": "markdown",
   "metadata": {},
   "source": [
    "The mask extraction can be done from the command line\n",
    "\n",
    "First we construction a json exclusion dictionary\n",
    "\n",
    "`excl_dict.json`\n",
    "```json\n",
    "{\n",
    "    \"excl_dict\" : {\n",
    "        \"nexrad_green_los\": {\n",
    "            \"exclude_values\": 1\n",
    "        },\n",
    "        \"airport_heliport_setbacks\": {\n",
    "            \"exclude_values\": 1\n",
    "        },\n",
    "        \"setbacks_pipeline_reference\": {\n",
    "            \"exclude_values\": 1\n",
    "        },\n",
    "        \"setbacks_structure_115hh_170rd\": {\n",
    "            \"exclude_range\": [\n",
    "                0,\n",
    "                1\n",
    "            ]\n",
    "        },\n",
    "        \"setbacks_structure_reference\": {\n",
    "            \"exclude_range\": [\n",
    "                0,\n",
    "                1\n",
    "            ]\n",
    "        }\n",
    "    }\n",
    "}\n",
    "```\n",
    "\n",
    "Then we run `$ reVX exclusions mask  -h5 \"../data/example.h5\" --excl_dict_fpath excl_dict.json` on the command line.\n",
    "\n",
    "This command also has `--min_area` and `--kernel options`"
   ]
  }
 ],
 "metadata": {
  "kernelspec": {
   "display_name": "rev_env",
   "language": "python",
   "name": "python3"
  },
  "language_info": {
   "codemirror_mode": {
    "name": "ipython",
    "version": 3
   },
   "file_extension": ".py",
   "mimetype": "text/x-python",
   "name": "python",
   "nbconvert_exporter": "python",
   "pygments_lexer": "ipython3",
   "version": "3.12.4"
  }
 },
 "nbformat": 4,
 "nbformat_minor": 2
}
