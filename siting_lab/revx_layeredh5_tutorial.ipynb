{
 "cells": [
  {
   "cell_type": "markdown",
   "metadata": {},
   "source": [
    "# Formatting geotiffs into reV H5"
   ]
  },
  {
   "cell_type": "markdown",
   "metadata": {},
   "source": [
    "In the previous tutorial, we demostrated how we can use `reVX`'s Geotiff handler to manage geotiff files\n",
    "\n",
    "In this tutorial, we will go over getting tiff files into a [reV](https://github.com/NREL/reV)-ready format using the `LayeredH5` handler"
   ]
  },
  {
   "cell_type": "markdown",
   "metadata": {},
   "source": [
    "Let's start by importing the libraries"
   ]
  },
  {
   "cell_type": "code",
   "execution_count": 11,
   "metadata": {},
   "outputs": [],
   "source": [
    "from pathlib import Path\n",
    "\n",
    "from reVX.handlers.layered_h5 import LayeredH5\n",
    "from reVX.handlers.geotiff import Geotiff"
   ]
  },
  {
   "cell_type": "markdown",
   "metadata": {},
   "source": [
    "We will also define paths to our sample data"
   ]
  },
  {
   "cell_type": "code",
   "execution_count": 18,
   "metadata": {},
   "outputs": [],
   "source": [
    "DATA = Path(\"../data\")\n",
    "H5_PATH = DATA.joinpath(\"example.h5\")\n",
    "TEMPLATE = DATA.joinpath(\"nexrad_green_los.tif\")"
   ]
  },
  {
   "cell_type": "markdown",
   "metadata": {},
   "source": [
    "First, we will initialize the LayeredH5 object\n",
    "\n",
    "If creating a new H5 file that does not exist, we use the `.create_new()` method. \n",
    "\n",
    "When creating a new H5, a template filepath must be specified. The template file is used to define the properties of the h5 file including:\n",
    "1. The profile information\n",
    "2. Coordinate reference system and projection\n",
    "3. The geographic extent, spatial resolution\n",
    "\n",
    "All other files that will be added to the h5 file will be transformed/adjusted to fit the properties of the template file before it is added to the h5 file\n"
   ]
  },
  {
   "cell_type": "code",
   "execution_count": 19,
   "metadata": {},
   "outputs": [],
   "source": [
    "#Initialize layered h5 object\n",
    "h5 = LayeredH5(H5_PATH, template_file=TEMPLATE)\n",
    "\n",
    "#If file doesn't exist, create new h5\n",
    "h5.create_new()"
   ]
  },
  {
   "cell_type": "markdown",
   "metadata": {},
   "source": [
    "Inspecting the h5 file, we see that the first two layers are longitude and latitide arrays.\n",
    "\n",
    "These are the coordinate locations for each grid cell defined by the template file pixels"
   ]
  },
  {
   "cell_type": "code",
   "execution_count": 20,
   "metadata": {},
   "outputs": [
    {
     "data": {
      "text/plain": [
       "['latitude', 'longitude']"
      ]
     },
     "execution_count": 20,
     "metadata": {},
     "output_type": "execute_result"
    }
   ],
   "source": [
    "#use the layer method to see the layers in the H5 file\n",
    "h5.layers"
   ]
  },
  {
   "cell_type": "markdown",
   "metadata": {},
   "source": [
    "Meta data information about the h5 file can be retrieved by using `.profile` and `.shape`"
   ]
  },
  {
   "cell_type": "code",
   "execution_count": 21,
   "metadata": {},
   "outputs": [
    {
     "name": "stdout",
     "output_type": "stream",
     "text": [
      "H5 profile: {'driver': 'GTiff', 'dtype': 'uint8', 'nodata': 255.0, 'width': 52005, 'height': 32697, 'count': 1, 'crs': '+init=epsg:5070', 'transform': (90.0, 0.0, -2400019.7367069316, 0.0, -90.0, 3197068.2309463923), 'blockxsize': 256, 'blockysize': 256, 'tiled': True, 'compress': 'lzma', 'interleave': 'band'}\n",
      "shape: (32697, 52005)\n"
     ]
    }
   ],
   "source": [
    "print(f\"H5 profile: {h5.profile}\")\n",
    "print(f\"shape: {h5.shape}\")"
   ]
  },
  {
   "cell_type": "markdown",
   "metadata": {},
   "source": [
    "Once the H5 file is created(or if it exists already), we can write numpy arrays and tiff files into the h5 files using the `.write_layer_to_h5()` and `.write_geotiff_to_h5()` respectively"
   ]
  },
  {
   "cell_type": "code",
   "execution_count": 22,
   "metadata": {},
   "outputs": [],
   "source": [
    "# adding numpy arrays\n",
    "\n",
    "#Let's read in a geotiff file into a numpy array using the Geotiff handler\n",
    "filepath = DATA.joinpath(\"nexrad_green_los.tif\")\n",
    "with Geotiff(filepath) as geo:\n",
    "    arr = geo.values #np array\n",
    "    profile = geo.profile\n",
    "    \n",
    "# add to h5\n",
    "h5.write_layer_to_h5(values=arr,\n",
    "                     layer_name=filepath.stem,\n",
    "                     profile=profile,\n",
    "                     description='NEXRAD Line of sight')"
   ]
  },
  {
   "cell_type": "code",
   "execution_count": 23,
   "metadata": {},
   "outputs": [
    {
     "name": "stderr",
     "output_type": "stream",
     "text": [
      "/Users/vigwe/.local/lib/python3.12/site-packages/pyproj/crs/crs.py:141: FutureWarning: '+init=<authority>:<code>' syntax is deprecated. '<authority>:<code>' is the preferred initialization method. When making the change, be mindful of axis order changes: https://pyproj4.github.io/pyproj/stable/gotchas.html#axis-order-changes-in-proj-6\n",
      "  in_crs_string = _prepare_from_proj_string(in_crs_string)\n",
      "/Users/vigwe/.local/lib/python3.12/site-packages/pyproj/crs/crs.py:1293: UserWarning: You will likely lose important projection information when converting to a PROJ string from another format. See: https://proj.org/faq.html#what-is-the-best-format-for-describing-coordinate-reference-systems\n",
      "  proj = self._crs.to_proj4(version=version)\n"
     ]
    }
   ],
   "source": [
    "#adding a geotiff file directly\n",
    "filepath = DATA.joinpath(\"airport_heliport_setbacks.tif\")\n",
    "h5.write_geotiff_to_h5(geotiff=filepath,\n",
    "                       layer_name=filepath.stem,\n",
    "                       description='Setbacks from airports and heliports',\n",
    "                       replace=False)\n"
   ]
  },
  {
   "cell_type": "markdown",
   "metadata": {},
   "source": [
    "Now we can check to see what layers are currently in the H5 file"
   ]
  },
  {
   "cell_type": "code",
   "execution_count": 24,
   "metadata": {},
   "outputs": [
    {
     "data": {
      "text/plain": [
       "['airport_heliport_setbacks', 'latitude', 'longitude', 'nexrad_green_los']"
      ]
     },
     "execution_count": 24,
     "metadata": {},
     "output_type": "execute_result"
    }
   ],
   "source": [
    "# Checking current layers in the \n",
    "h5.layers"
   ]
  },
  {
   "cell_type": "markdown",
   "metadata": {},
   "source": [
    "We can also add multiple geotiffs into the h5 using the `.layers_to_h5()` method. \n",
    "\n",
    "This accepts a list or dictionary mapping layer name to geotiff filepaths. You can also pass a dictionary mapping layer name to description for the `description` argument"
   ]
  },
  {
   "cell_type": "code",
   "execution_count": 26,
   "metadata": {},
   "outputs": [
    {
     "name": "stdout",
     "output_type": "stream",
     "text": [
      "Adding 6 file(s) to the h5...\n",
      "setbacks_pipeline_reference\n",
      "setbacks_structure_reference\n",
      "setbacks_road_120hh_175rd_1.1\n",
      "setbacks_structure_115hh_170rd\n",
      "setbacks_transmission_reference\n",
      "ops_water\n"
     ]
    },
    {
     "name": "stderr",
     "output_type": "stream",
     "text": [
      "/Users/vigwe/.local/lib/python3.12/site-packages/pyproj/crs/crs.py:141: FutureWarning: '+init=<authority>:<code>' syntax is deprecated. '<authority>:<code>' is the preferred initialization method. When making the change, be mindful of axis order changes: https://pyproj4.github.io/pyproj/stable/gotchas.html#axis-order-changes-in-proj-6\n",
      "  in_crs_string = _prepare_from_proj_string(in_crs_string)\n",
      "/Users/vigwe/.local/lib/python3.12/site-packages/pyproj/crs/crs.py:1293: UserWarning: You will likely lose important projection information when converting to a PROJ string from another format. See: https://proj.org/faq.html#what-is-the-best-format-for-describing-coordinate-reference-systems\n",
      "  proj = self._crs.to_proj4(version=version)\n"
     ]
    }
   ],
   "source": [
    "file_list = list(DATA.glob(\"*.tif\"))[:6]\n",
    "\n",
    "print(f\"Adding {len(file_list)} file(s) to the h5...\")\n",
    "for file in file_list:\n",
    "    print(file.stem)\n",
    "\n",
    "h5.layers_to_h5(\n",
    "    layers=file_list,\n",
    "    replace=False\n",
    ")"
   ]
  },
  {
   "cell_type": "code",
   "execution_count": 27,
   "metadata": {},
   "outputs": [
    {
     "data": {
      "text/plain": [
       "['airport_heliport_setbacks',\n",
       " 'latitude',\n",
       " 'longitude',\n",
       " 'nexrad_green_los',\n",
       " 'ops_water',\n",
       " 'setbacks_pipeline_reference',\n",
       " 'setbacks_road_120hh_175rd_1',\n",
       " 'setbacks_structure_115hh_170rd',\n",
       " 'setbacks_structure_reference',\n",
       " 'setbacks_transmission_reference']"
      ]
     },
     "execution_count": 27,
     "metadata": {},
     "output_type": "execute_result"
    }
   ],
   "source": [
    "# Checking current layers in the h5\n",
    "h5.layers"
   ]
  },
  {
   "cell_type": "markdown",
   "metadata": {},
   "source": [
    "Layers in the h5 file can also be extracted as geotiffs. `.layer_to_geotiff()` for single layers, `.extract_layers()` for multiple layers.\n",
    "\n",
    "All the layers in the h5 can be extracted using `.extract_all_layers()` by passing an output directory as argument."
   ]
  },
  {
   "cell_type": "code",
   "execution_count": 28,
   "metadata": {},
   "outputs": [],
   "source": [
    "#extracting single layer\n",
    "layer = 'ops_water'\n",
    "outpath = DATA.joinpath(\"ops_water_h5_extract.tif\")\n",
    "h5.layer_to_geotiff(layer=layer,\n",
    "                    geotiff=outpath)\n",
    "\n",
    "\n",
    "#Extracting multiple layers\n",
    "layers = {\n",
    "    'nexrad_green_los': DATA.joinpath(\"nexrad_green_los_h5_extract.tif\"),\n",
    "    'setbacks_pipeline_reference': DATA.joinpath(\"setbacks_pipeline_reference_h5_extract.tif\")\n",
    "}\n",
    "h5.extract_layers(layers)"
   ]
  },
  {
   "cell_type": "markdown",
   "metadata": {},
   "source": [
    "### Using The command line to add and extract layers from h5 files"
   ]
  },
  {
   "cell_type": "markdown",
   "metadata": {},
   "source": [
    "Alternatively, the command line can be used to add and extract layers from the h5 file\n",
    "\n",
    "1. Adding tiffs to the h5 \n",
    "\n",
    "First, we need to construct a json config file that contains layer name mapping to geotiff filepaths\n",
    "This json configuration file can optionally contain layer descriptions\n"
   ]
  },
  {
   "cell_type": "markdown",
   "metadata": {},
   "source": [
    "`layers.json`\n",
    "```json\n",
    "{\n",
    "    \"layers\":\n",
    "        {\n",
    "            \"nexrad_green_los\": \"../data/nexrad_green_los.tif\",\n",
    "            \"ops_water\": \"../data/ops_water.tif\",\n",
    "            \"setbacks_transmission_reference\": \"../data/setbacks_transmission_reference.tif\"\n",
    "        }\n",
    "}\n",
    "```"
   ]
  },
  {
   "cell_type": "markdown",
   "metadata": {},
   "source": [
    "Then we run `$ reVX exclusions layers-to-h5  -h5 \"../data/example.h5\" --layers layers.json` on the command line."
   ]
  },
  {
   "cell_type": "markdown",
   "metadata": {},
   "source": [
    "2. Extracting layers from h5\n",
    "\n",
    "To extract layers from the h5 file, we pass the list of layers to extract as an argument and an output directory\n",
    "\n",
    "Example: `$ reVX exclusions layers-from-h5 -h5 \"../data/example.h5\" -l nexrad_green_los ops_water setbacks_transmission_reference -o \"./outputs\"`"
   ]
  }
 ],
 "metadata": {
  "kernelspec": {
   "display_name": "rev_env",
   "language": "python",
   "name": "python3"
  },
  "language_info": {
   "codemirror_mode": {
    "name": "ipython",
    "version": 3
   },
   "file_extension": ".py",
   "mimetype": "text/x-python",
   "name": "python",
   "nbconvert_exporter": "python",
   "pygments_lexer": "ipython3",
   "version": "3.12.4"
  }
 },
 "nbformat": 4,
 "nbformat_minor": 2
}
