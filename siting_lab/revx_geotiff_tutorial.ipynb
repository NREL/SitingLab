{
 "cells": [
  {
   "cell_type": "markdown",
   "id": "ae6d0699",
   "metadata": {},
   "source": [
    "# Working with GeoTIFFs using the reVX Geotiff Handler"
   ]
  },
  {
   "cell_type": "markdown",
   "id": "dd8b1aa5",
   "metadata": {},
   "source": [
    "\n",
    "## Introduction\n",
    "This is the first part of a series of tutorials to get users familiar with `reVX`.\n",
    "\n",
    "`reVX` is a tool used to support the [reV model](https://github.com/NREL/reV). It provides an interface to get data ready for reV modeling as well as extracting and formatting reV outputs. \n",
    "\n",
    "Most use cases of `reVX` would involve formatting geospatial raster and vector data for use within reV, as well as formatting reV outputs for uses outside reV.\n",
    "This tutorial will guide you through the process of working with GeoTIFF files using the `Geotiff` handler from the `reVX` library. GeoTIFF is a popular format for geospatial data, and the `Geotiff` handler provides a simple interface to load and extract various information from these files.\n",
    "\n",
    "We'll cover the following steps:\n",
    "1. Loading a GeoTIFF file using a context manager\n",
    "2. Retrieving the profile (metadata)\n",
    "3. Extracting band information\n",
    "4. Accessing the data values\n",
    "5. Extracting latitude and longitude coordinates\n",
    "6. Determining the data type\n",
    "\n",
    "Let's get started!\n"
   ]
  },
  {
   "cell_type": "markdown",
   "id": "0ba42f76",
   "metadata": {},
   "source": [
    "Import libraries"
   ]
  },
  {
   "cell_type": "code",
   "execution_count": 1,
   "id": "04631e9e",
   "metadata": {},
   "outputs": [],
   "source": [
    "from pathlib import Path\n",
    "\n",
    "from reVX.handlers.geotiff import Geotiff"
   ]
  },
  {
   "cell_type": "markdown",
   "id": "030573cb",
   "metadata": {},
   "source": [
    "Let's add filepath definitions"
   ]
  },
  {
   "cell_type": "code",
   "execution_count": 2,
   "id": "556104c3",
   "metadata": {},
   "outputs": [],
   "source": [
    "DATA = Path(\"../data/nexrad_green_los.tif\")"
   ]
  },
  {
   "cell_type": "markdown",
   "id": "cd62efe6",
   "metadata": {},
   "source": [
    "Now let's use the `Geotiff` handler of `reVX` to open the tif file in the path defined\n",
    "\n",
    "We will inspect some properties of the file. This example will show the used of the handler within a context manager"
   ]
  },
  {
   "cell_type": "code",
   "execution_count": 4,
   "id": "e9eea203",
   "metadata": {},
   "outputs": [
    {
     "name": "stdout",
     "output_type": "stream",
     "text": [
      "GeoTIFF Profile: {'driver': 'GTiff', 'dtype': 'uint8', 'nodata': 255.0, 'width': 52005, 'height': 32697, 'count': 1, 'crs': '+init=epsg:5070', 'transform': (90.0, 0.0, -2400019.7367069316, 0.0, -90.0, 3197068.2309463923), 'blockxsize': 256, 'blockysize': 256, 'tiled': True, 'compress': 'lzma', 'interleave': 'band'}\n",
      "Number of Bands: 1\n",
      "Data Type: uint8\n",
      "Image shape: (32697, 52005)\n"
     ]
    }
   ],
   "source": [
    "# We can use the Geotiff handler within a context manager\n",
    "# Properties of the file can be retrieved without reading it into memory\n",
    "with Geotiff(DATA) as geo:\n",
    "    \n",
    "    # Retrieving the Profile information\n",
    "    profile = geo.profile\n",
    "    print(\"GeoTIFF Profile:\", profile)\n",
    "    \n",
    "    # Extracting Band Information\n",
    "    bands = geo.bands\n",
    "    print(\"Number of Bands:\", bands)\n",
    "    \n",
    "    # Determining the Data Type\n",
    "    dtype = geo.dtype\n",
    "    print(\"Data Type:\", dtype)\n",
    "    \n",
    "    # Data shape\n",
    "    shape = geo.shape\n",
    "    print(\"Image shape:\", shape)\n"
   ]
  },
  {
   "cell_type": "markdown",
   "id": "3521bc39",
   "metadata": {},
   "source": [
    "Optionally we can decide to use the `Geotiff` object without a context manager. \n",
    "\n",
    "In this example, we read that values of the geotiff file."
   ]
  },
  {
   "cell_type": "code",
   "execution_count": 5,
   "id": "23e2cca1",
   "metadata": {},
   "outputs": [
    {
     "name": "stdout",
     "output_type": "stream",
     "text": [
      "<class 'numpy.ndarray'> has a shape of (1, 32697, 52005)\n"
     ]
    }
   ],
   "source": [
    "# Initialize a Geotiff object\n",
    "geo = Geotiff(DATA)\n",
    "\n",
    "# Extract data as a numpy array\n",
    "data_array = geo.values\n",
    "print(f\"{type(data_array)} has a shape of {data_array.shape}\")"
   ]
  },
  {
   "cell_type": "markdown",
   "id": "270e501c",
   "metadata": {},
   "source": [
    "We could also extract lon, lat coordinates of each pixel location"
   ]
  },
  {
   "cell_type": "code",
   "execution_count": 6,
   "id": "e8f16fba",
   "metadata": {},
   "outputs": [
    {
     "name": "stdout",
     "output_type": "stream",
     "text": [
      "latitude shape: (32697, 52005), longitude shape: (32697, 52005)\n"
     ]
    }
   ],
   "source": [
    "#The lat_lon attribute returns the latitude and longitude values as a tuple\n",
    "# They can also be extracted individually by using the latitude and longitude attributes respectively\n",
    "lat, lon = geo.lat_lon\n",
    "\n",
    "print(f\"latitude shape: {lat.shape}, longitude shape: {lon.shape}\")"
   ]
  },
  {
   "cell_type": "markdown",
   "id": "9c3535e6",
   "metadata": {},
   "source": [
    "If using the handler without a context manager, use the close() method, to close the source object"
   ]
  },
  {
   "cell_type": "code",
   "execution_count": 7,
   "id": "34da9dcf",
   "metadata": {},
   "outputs": [],
   "source": [
    "geo.close()"
   ]
  },
  {
   "cell_type": "markdown",
   "id": "c17fd9f9",
   "metadata": {},
   "source": [
    "\n",
    "## Conclusion\n",
    "In this tutorial, we have walked through the basic steps to load and explore GeoTIFF files using the `Geotiff` handler from the `reVX` library within a context manager. You should now be able to:\n",
    "- Retrieve metadata from a GeoTIFF file\n",
    "- Extaract the values as a numpy array\n",
    "- Extract geographic coordinates (latitude and longitude)\n",
    "\n",
    "\n"
   ]
  }
 ],
 "metadata": {
  "kernelspec": {
   "display_name": "rev",
   "language": "python",
   "name": "python3"
  },
  "language_info": {
   "codemirror_mode": {
    "name": "ipython",
    "version": 3
   },
   "file_extension": ".py",
   "mimetype": "text/x-python",
   "name": "python",
   "nbconvert_exporter": "python",
   "pygments_lexer": "ipython3",
   "version": "3.12.4"
  }
 },
 "nbformat": 4,
 "nbformat_minor": 5
}
